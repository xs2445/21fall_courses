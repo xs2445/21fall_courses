{
 "cells": [
  {
   "cell_type": "code",
   "execution_count": 1,
   "metadata": {},
   "outputs": [],
   "source": [
    "#!/usr/bin/env python\n",
    "\n",
    "\n",
    "import pycuda.autoinit\n",
    "from pycuda.compiler import SourceModule\n",
    "import pycuda.driver as cuda\n",
    "import pycuda.gpuarray as gpuarray\n",
    "import numpy as np\n",
    "import time\n",
    "import matplotlib.pyplot as plt\n"
   ]
  },
  {
   "cell_type": "code",
   "execution_count": 2,
   "metadata": {},
   "outputs": [
    {
     "ename": "TabError",
     "evalue": "inconsistent use of tabs and spaces in indentation (<ipython-input-2-b32c362e815b>, line 6)",
     "output_type": "error",
     "traceback": [
      "\u001b[0;36m  File \u001b[0;32m\"<ipython-input-2-b32c362e815b>\"\u001b[0;36m, line \u001b[0;32m6\u001b[0m\n\u001b[0;31m    self.mod = self.getSourceModule()\u001b[0m\n\u001b[0m                                     ^\u001b[0m\n\u001b[0;31mTabError\u001b[0m\u001b[0;31m:\u001b[0m inconsistent use of tabs and spaces in indentation\n"
     ]
    }
   ],
   "source": [
    "class Convolution:\n",
    "  \tdef __init__(self):\n",
    "\t\t# \"\"\"\n",
    "\t\t# Attributes for instance of EncoderDecoder module\n",
    "\t\t# \"\"\"\n",
    "\t\tself.mod = self.getSourceModule()\n",
    "\t\tpass\n",
    "\n",
    "\n",
    "\t\n",
    "\n",
    "\tdef getSourceModule(self):\n",
    "\t\t# kernel code wrapper\n",
    "\t\tkernelwrapper = \"\"\"\n",
    "\t\t\t__global__ \n",
    "\t\t\tvoid conv_gpu_naive(float *N, float *P, float *M, int height, int width, int mask_width){\n",
    "\n",
    "\t\t\t\t// the coordinate of thread (also coordinate in N or P)\n",
    "\t\t\t\tcol = blockDim.x * blockIdx.x + threadIdx.x;\n",
    "\t\t\t\trow = blockDim.y * blockIdx.y + threadIdx.y;\n",
    "\n",
    "\t\t\t\t// copy to register\n",
    "\t\t\t\tint mask_w = mask_width\n",
    "\t\t\t\tint n_w = width\n",
    "\t\t\t\tint n_h = height\n",
    "\t\t\t\t// start point of the kernel\n",
    "\t\t\t\tint col_start = col - mask_w/2\n",
    "\t\t\t\tint row_start = row - mask_w/2\n",
    "\n",
    "\t\t\t\tfloat p_value = 0.0f\n",
    "\n",
    "\t\t\t\t// for every pixel in mask\n",
    "\t\t\t\tfor(int i=0; i<mask_w; i++){\n",
    "\t\t\t\t\t// x coordinate in N\n",
    "\t\t\t\t\tcol_i = col_start + i;\n",
    "\t\t\t\t\t// if in the range of N\n",
    "\t\t\t\t\tif(col_i>=0 && col_i<n_w){\n",
    "\t\t\t\t\t\tfor(int j=0; j<mask_w; j++){\n",
    "\t\t\t\t\t\t\t// y coordinate in N\n",
    "\t\t\t\t\t\t\trow_i = row_start + j\n",
    "\t\t\t\t\t\t\t//if in the range of N\n",
    "\t\t\t\t\t\t\tif(row_i>=0 && row_i<n_h){\n",
    "\t\t\t\t\t\t\t\tp_value += N[col_i][row_i] * M[i][j]\n",
    "\t\t\t\t\t\t\t}\n",
    "\t\t\t\t\t\t}\n",
    "\t\t\t\t\t}\n",
    "\t\t\t\t}\n",
    "\t\t\t\tP[col][row] = p_value\n",
    "\t\t\t}\n",
    "\t\t\n",
    "\t\t\"\"\" # you can either use a string or save the kernel in kernel.cu file and reference it here.\n",
    "\t\t# Compile the kernel code when an instance\n",
    "\t\t# of this class is made. \n",
    "\t\treturn SourceModule(kernelwrapper)\n",
    "\n",
    "\tdef conv_gpu_naive(self):\n",
    "\t\t# implement this, note you can change the function signature (arguments and return type)\n",
    "\t\tpass\n",
    "\n",
    "\tdef conv_gpu_shared_mem(self):\n",
    "\t\t# implement this, note you can change the function signature (arguments and return type)\n",
    "\t\tpass\n",
    "\n",
    "\tdef conv_gpu_shared_and_constant_mem(self):\n",
    "\t\t# implement this, note you can change the function signature (arguments and return type)\n",
    "\t\tpass\n",
    "\n",
    "\tdef test_conv_pycuda(self):\n",
    "\t\t# implement this, note you can change the function signature (arguments and return type)\n",
    "\t\tpass"
   ]
  }
 ],
 "metadata": {
  "interpreter": {
   "hash": "fdf7c51fe71bae416eddcc8e429936b019ff907e8a09932761e48214d3299c84"
  },
  "kernelspec": {
   "display_name": "Python 3.6.9 64-bit ('cudaEnv': venv)",
   "name": "python3"
  },
  "language_info": {
   "codemirror_mode": {
    "name": "ipython",
    "version": 3
   },
   "file_extension": ".py",
   "mimetype": "text/x-python",
   "name": "python",
   "nbconvert_exporter": "python",
   "pygments_lexer": "ipython3",
   "version": "3.6.9"
  },
  "orig_nbformat": 4
 },
 "nbformat": 4,
 "nbformat_minor": 2
}
