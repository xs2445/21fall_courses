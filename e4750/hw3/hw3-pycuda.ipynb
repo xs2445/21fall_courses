{
 "cells": [
  {
   "cell_type": "code",
   "execution_count": null,
   "metadata": {},
   "outputs": [],
   "source": [
    "import relevant.libraries\n",
    "\n",
    "class Convolution:\n",
    "  def __init__(self):\n",
    "\t\"\"\"\n",
    "\tAttributes for instance of EncoderDecoder module\n",
    "\t\"\"\"\n",
    "\tself.mod = self.getSourceModule()\n",
    "\tpass\n",
    "\n",
    "  def getSourceModule(self):\n",
    "\t# kernel code wrapper\n",
    "\tkernelwrapper = \"\"\"\"\"\" # you can either use a string or save the kernel in kernel.cu file and reference it here.\n",
    "\t# Compile the kernel code when an instance\n",
    "\t# of this class is made. \n",
    "\treturn SourceModule(kernelwrapper)\n",
    "\n",
    "  def conv_gpu_naive(self):\n",
    "\t# implement this, note you can change the function signature (arguments and return type)\n",
    "\tpass\n",
    "\n",
    "  def conv_gpu_shared_mem(self):\n",
    "\t# implement this, note you can change the function signature (arguments and return type)\n",
    "\tpass\n",
    "\n",
    "  def conv_gpu_shared_and_constant_mem(self):\n",
    "\t# implement this, note you can change the function signature (arguments and return type)\n",
    "\tpass\n",
    "\n",
    "  def test_conv_pycuda(self):\n",
    "\t# implement this, note you can change the function signature (arguments and return type)\n",
    "\tpass"
   ]
  }
 ],
 "metadata": {
  "language_info": {
   "name": "python"
  },
  "orig_nbformat": 4
 },
 "nbformat": 4,
 "nbformat_minor": 2
}
