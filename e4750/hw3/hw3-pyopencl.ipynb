{
 "cells": [
  {
   "cell_type": "code",
   "execution_count": null,
   "metadata": {},
   "outputs": [],
   "source": [
    "import relevant.libraries\n",
    "\n",
    "class Convolution:\n",
    "  def __init__(self):\n",
    "\t\"\"\"\n",
    "\tAttributes for instance of clModule\n",
    "\tIncludes OpenCL context, command queue, kernel code.\n",
    "\t\"\"\"\n",
    "\n",
    "\t# Get platform and device property\n",
    "\tNAME = 'NVIDIA CUDA'\n",
    "\tplatforms = cl.get_platforms()\n",
    "\tdevs = None\n",
    "\tfor platform in platforms:\n",
    "\t    if platform.name == NAME:\n",
    "\t        devs = platform.get_devices()       \n",
    "\n",
    "\t# Create Context:\n",
    "\tself.ctx = cl.Context(devs)\n",
    "\n",
    "\t# Setup Command Queue:\n",
    "\tself.queue = cl.CommandQueue(self.ctx, properties=cl.command_queue_properties.PROFILING_ENABLE)\n",
    "\n",
    "\t# kernel - Write your kernel code here or in a .cu file and link it here.\n",
    "\tkernel_code = \"\"\"\"\"\" \n",
    "\n",
    "\t# Build kernel code\n",
    "\tself.prg = cl.Program(self.ctx, kernel_code).build()\n",
    "\n",
    "  def conv_gpu_naive(self):\n",
    "\t# implement this, note you can change the function signature (arguments and return type)\n",
    "\tpass\n",
    "\n",
    "  def conv_gpu_shared_mem(self):\n",
    "\t# implement this, note you can change the function signature (arguments and return type)\n",
    "\tpass\n",
    "\n",
    "  def conv_gpu_shared_and_constant_mem(self):\n",
    "\t# implement this, note you can change the function signature (arguments and return type)\n",
    "\tpass\n",
    "\n",
    "  def test_conv_pyopencl(self):\n",
    "\t# implement this, note you can change the function signature (arguments and return type)\n",
    "\tpass"
   ]
  }
 ],
 "metadata": {
  "language_info": {
   "name": "python"
  },
  "orig_nbformat": 4
 },
 "nbformat": 4,
 "nbformat_minor": 2
}
