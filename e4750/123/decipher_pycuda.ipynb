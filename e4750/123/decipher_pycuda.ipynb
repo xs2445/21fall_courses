{
  "cells": [
    {
      "cell_type": "code",
      "execution_count": null,
      "metadata": {
        "colab": {
          "base_uri": "https://localhost:8080/"
        },
        "id": "KxoKLGgQCMq5",
        "outputId": "23954a9f-6fba-4e81-e5bc-034a1bb24dfc"
      },
      "outputs": [
        {
          "name": "stdout",
          "output_type": "stream",
          "text": [
            "Collecting pycuda\n",
            "  Downloading pycuda-2021.1.tar.gz (1.7 MB)\n",
            "\u001b[?25l\r\u001b[K     |▏                               | 10 kB 29.3 MB/s eta 0:00:01\r\u001b[K     |▍                               | 20 kB 35.0 MB/s eta 0:00:01\r\u001b[K     |▋                               | 30 kB 40.1 MB/s eta 0:00:01\r\u001b[K     |▉                               | 40 kB 30.2 MB/s eta 0:00:01\r\u001b[K     |█                               | 51 kB 18.1 MB/s eta 0:00:01\r\u001b[K     |█▏                              | 61 kB 15.5 MB/s eta 0:00:01\r\u001b[K     |█▍                              | 71 kB 14.4 MB/s eta 0:00:01\r\u001b[K     |█▋                              | 81 kB 15.8 MB/s eta 0:00:01\r\u001b[K     |█▊                              | 92 kB 14.7 MB/s eta 0:00:01\r\u001b[K     |██                              | 102 kB 15.6 MB/s eta 0:00:01\r\u001b[K     |██▏                             | 112 kB 15.6 MB/s eta 0:00:01\r\u001b[K     |██▍                             | 122 kB 15.6 MB/s eta 0:00:01\r\u001b[K     |██▌                             | 133 kB 15.6 MB/s eta 0:00:01\r\u001b[K     |██▊                             | 143 kB 15.6 MB/s eta 0:00:01\r\u001b[K     |███                             | 153 kB 15.6 MB/s eta 0:00:01\r\u001b[K     |███▏                            | 163 kB 15.6 MB/s eta 0:00:01\r\u001b[K     |███▎                            | 174 kB 15.6 MB/s eta 0:00:01\r\u001b[K     |███▌                            | 184 kB 15.6 MB/s eta 0:00:01\r\u001b[K     |███▊                            | 194 kB 15.6 MB/s eta 0:00:01\r\u001b[K     |████                            | 204 kB 15.6 MB/s eta 0:00:01\r\u001b[K     |████                            | 215 kB 15.6 MB/s eta 0:00:01\r\u001b[K     |████▎                           | 225 kB 15.6 MB/s eta 0:00:01\r\u001b[K     |████▌                           | 235 kB 15.6 MB/s eta 0:00:01\r\u001b[K     |████▊                           | 245 kB 15.6 MB/s eta 0:00:01\r\u001b[K     |████▉                           | 256 kB 15.6 MB/s eta 0:00:01\r\u001b[K     |█████                           | 266 kB 15.6 MB/s eta 0:00:01\r\u001b[K     |█████▎                          | 276 kB 15.6 MB/s eta 0:00:01\r\u001b[K     |█████▌                          | 286 kB 15.6 MB/s eta 0:00:01\r\u001b[K     |█████▋                          | 296 kB 15.6 MB/s eta 0:00:01\r\u001b[K     |█████▉                          | 307 kB 15.6 MB/s eta 0:00:01\r\u001b[K     |██████                          | 317 kB 15.6 MB/s eta 0:00:01\r\u001b[K     |██████▎                         | 327 kB 15.6 MB/s eta 0:00:01\r\u001b[K     |██████▍                         | 337 kB 15.6 MB/s eta 0:00:01\r\u001b[K     |██████▋                         | 348 kB 15.6 MB/s eta 0:00:01\r\u001b[K     |██████▉                         | 358 kB 15.6 MB/s eta 0:00:01\r\u001b[K     |███████                         | 368 kB 15.6 MB/s eta 0:00:01\r\u001b[K     |███████▏                        | 378 kB 15.6 MB/s eta 0:00:01\r\u001b[K     |███████▍                        | 389 kB 15.6 MB/s eta 0:00:01\r\u001b[K     |███████▋                        | 399 kB 15.6 MB/s eta 0:00:01\r\u001b[K     |███████▉                        | 409 kB 15.6 MB/s eta 0:00:01\r\u001b[K     |████████                        | 419 kB 15.6 MB/s eta 0:00:01\r\u001b[K     |████████▏                       | 430 kB 15.6 MB/s eta 0:00:01\r\u001b[K     |████████▍                       | 440 kB 15.6 MB/s eta 0:00:01\r\u001b[K     |████████▋                       | 450 kB 15.6 MB/s eta 0:00:01\r\u001b[K     |████████▊                       | 460 kB 15.6 MB/s eta 0:00:01\r\u001b[K     |█████████                       | 471 kB 15.6 MB/s eta 0:00:01\r\u001b[K     |█████████▏                      | 481 kB 15.6 MB/s eta 0:00:01\r\u001b[K     |█████████▍                      | 491 kB 15.6 MB/s eta 0:00:01\r\u001b[K     |█████████▌                      | 501 kB 15.6 MB/s eta 0:00:01\r\u001b[K     |█████████▊                      | 512 kB 15.6 MB/s eta 0:00:01\r\u001b[K     |██████████                      | 522 kB 15.6 MB/s eta 0:00:01\r\u001b[K     |██████████▏                     | 532 kB 15.6 MB/s eta 0:00:01\r\u001b[K     |██████████▎                     | 542 kB 15.6 MB/s eta 0:00:01\r\u001b[K     |██████████▌                     | 552 kB 15.6 MB/s eta 0:00:01\r\u001b[K     |██████████▊                     | 563 kB 15.6 MB/s eta 0:00:01\r\u001b[K     |███████████                     | 573 kB 15.6 MB/s eta 0:00:01\r\u001b[K     |███████████                     | 583 kB 15.6 MB/s eta 0:00:01\r\u001b[K     |███████████▎                    | 593 kB 15.6 MB/s eta 0:00:01\r\u001b[K     |███████████▌                    | 604 kB 15.6 MB/s eta 0:00:01\r\u001b[K     |███████████▊                    | 614 kB 15.6 MB/s eta 0:00:01\r\u001b[K     |███████████▉                    | 624 kB 15.6 MB/s eta 0:00:01\r\u001b[K     |████████████                    | 634 kB 15.6 MB/s eta 0:00:01\r\u001b[K     |████████████▎                   | 645 kB 15.6 MB/s eta 0:00:01\r\u001b[K     |████████████▌                   | 655 kB 15.6 MB/s eta 0:00:01\r\u001b[K     |████████████▋                   | 665 kB 15.6 MB/s eta 0:00:01\r\u001b[K     |████████████▉                   | 675 kB 15.6 MB/s eta 0:00:01\r\u001b[K     |█████████████                   | 686 kB 15.6 MB/s eta 0:00:01\r\u001b[K     |█████████████▎                  | 696 kB 15.6 MB/s eta 0:00:01\r\u001b[K     |█████████████▍                  | 706 kB 15.6 MB/s eta 0:00:01\r\u001b[K     |█████████████▋                  | 716 kB 15.6 MB/s eta 0:00:01\r\u001b[K     |█████████████▉                  | 727 kB 15.6 MB/s eta 0:00:01\r\u001b[K     |██████████████                  | 737 kB 15.6 MB/s eta 0:00:01\r\u001b[K     |██████████████▏                 | 747 kB 15.6 MB/s eta 0:00:01\r\u001b[K     |██████████████▍                 | 757 kB 15.6 MB/s eta 0:00:01\r\u001b[K     |██████████████▋                 | 768 kB 15.6 MB/s eta 0:00:01\r\u001b[K     |██████████████▉                 | 778 kB 15.6 MB/s eta 0:00:01\r\u001b[K     |███████████████                 | 788 kB 15.6 MB/s eta 0:00:01\r\u001b[K     |███████████████▏                | 798 kB 15.6 MB/s eta 0:00:01\r\u001b[K     |███████████████▍                | 808 kB 15.6 MB/s eta 0:00:01\r\u001b[K     |███████████████▋                | 819 kB 15.6 MB/s eta 0:00:01\r\u001b[K     |███████████████▊                | 829 kB 15.6 MB/s eta 0:00:01\r\u001b[K     |████████████████                | 839 kB 15.6 MB/s eta 0:00:01\r\u001b[K     |████████████████▏               | 849 kB 15.6 MB/s eta 0:00:01\r\u001b[K     |████████████████▍               | 860 kB 15.6 MB/s eta 0:00:01\r\u001b[K     |████████████████▌               | 870 kB 15.6 MB/s eta 0:00:01\r\u001b[K     |████████████████▊               | 880 kB 15.6 MB/s eta 0:00:01\r\u001b[K     |█████████████████               | 890 kB 15.6 MB/s eta 0:00:01\r\u001b[K     |█████████████████▏              | 901 kB 15.6 MB/s eta 0:00:01\r\u001b[K     |█████████████████▍              | 911 kB 15.6 MB/s eta 0:00:01\r\u001b[K     |█████████████████▌              | 921 kB 15.6 MB/s eta 0:00:01\r\u001b[K     |█████████████████▊              | 931 kB 15.6 MB/s eta 0:00:01\r\u001b[K     |██████████████████              | 942 kB 15.6 MB/s eta 0:00:01\r\u001b[K     |██████████████████▏             | 952 kB 15.6 MB/s eta 0:00:01\r\u001b[K     |██████████████████▎             | 962 kB 15.6 MB/s eta 0:00:01\r\u001b[K     |██████████████████▌             | 972 kB 15.6 MB/s eta 0:00:01\r\u001b[K     |██████████████████▊             | 983 kB 15.6 MB/s eta 0:00:01\r\u001b[K     |███████████████████             | 993 kB 15.6 MB/s eta 0:00:01\r\u001b[K     |███████████████████             | 1.0 MB 15.6 MB/s eta 0:00:01\r\u001b[K     |███████████████████▎            | 1.0 MB 15.6 MB/s eta 0:00:01\r\u001b[K     |███████████████████▌            | 1.0 MB 15.6 MB/s eta 0:00:01\r\u001b[K     |███████████████████▊            | 1.0 MB 15.6 MB/s eta 0:00:01\r\u001b[K     |███████████████████▉            | 1.0 MB 15.6 MB/s eta 0:00:01\r\u001b[K     |████████████████████            | 1.1 MB 15.6 MB/s eta 0:00:01\r\u001b[K     |████████████████████▎           | 1.1 MB 15.6 MB/s eta 0:00:01\r\u001b[K     |████████████████████▌           | 1.1 MB 15.6 MB/s eta 0:00:01\r\u001b[K     |████████████████████▋           | 1.1 MB 15.6 MB/s eta 0:00:01\r\u001b[K     |████████████████████▉           | 1.1 MB 15.6 MB/s eta 0:00:01\r\u001b[K     |█████████████████████           | 1.1 MB 15.6 MB/s eta 0:00:01\r\u001b[K     |█████████████████████▎          | 1.1 MB 15.6 MB/s eta 0:00:01\r\u001b[K     |█████████████████████▍          | 1.1 MB 15.6 MB/s eta 0:00:01\r\u001b[K     |█████████████████████▋          | 1.1 MB 15.6 MB/s eta 0:00:01\r\u001b[K     |█████████████████████▉          | 1.1 MB 15.6 MB/s eta 0:00:01\r\u001b[K     |██████████████████████          | 1.2 MB 15.6 MB/s eta 0:00:01\r\u001b[K     |██████████████████████▏         | 1.2 MB 15.6 MB/s eta 0:00:01\r\u001b[K     |██████████████████████▍         | 1.2 MB 15.6 MB/s eta 0:00:01\r\u001b[K     |██████████████████████▋         | 1.2 MB 15.6 MB/s eta 0:00:01\r\u001b[K     |██████████████████████▉         | 1.2 MB 15.6 MB/s eta 0:00:01\r\u001b[K     |███████████████████████         | 1.2 MB 15.6 MB/s eta 0:00:01\r\u001b[K     |███████████████████████▏        | 1.2 MB 15.6 MB/s eta 0:00:01\r\u001b[K     |███████████████████████▍        | 1.2 MB 15.6 MB/s eta 0:00:01\r\u001b[K     |███████████████████████▋        | 1.2 MB 15.6 MB/s eta 0:00:01\r\u001b[K     |███████████████████████▊        | 1.2 MB 15.6 MB/s eta 0:00:01\r\u001b[K     |████████████████████████        | 1.3 MB 15.6 MB/s eta 0:00:01\r\u001b[K     |████████████████████████▏       | 1.3 MB 15.6 MB/s eta 0:00:01\r\u001b[K     |████████████████████████▍       | 1.3 MB 15.6 MB/s eta 0:00:01\r\u001b[K     |████████████████████████▌       | 1.3 MB 15.6 MB/s eta 0:00:01\r\u001b[K     |████████████████████████▊       | 1.3 MB 15.6 MB/s eta 0:00:01\r\u001b[K     |█████████████████████████       | 1.3 MB 15.6 MB/s eta 0:00:01\r\u001b[K     |█████████████████████████▏      | 1.3 MB 15.6 MB/s eta 0:00:01\r\u001b[K     |█████████████████████████▎      | 1.3 MB 15.6 MB/s eta 0:00:01\r\u001b[K     |█████████████████████████▌      | 1.3 MB 15.6 MB/s eta 0:00:01\r\u001b[K     |█████████████████████████▊      | 1.4 MB 15.6 MB/s eta 0:00:01\r\u001b[K     |██████████████████████████      | 1.4 MB 15.6 MB/s eta 0:00:01\r\u001b[K     |██████████████████████████      | 1.4 MB 15.6 MB/s eta 0:00:01\r\u001b[K     |██████████████████████████▎     | 1.4 MB 15.6 MB/s eta 0:00:01\r\u001b[K     |██████████████████████████▌     | 1.4 MB 15.6 MB/s eta 0:00:01\r\u001b[K     |██████████████████████████▊     | 1.4 MB 15.6 MB/s eta 0:00:01\r\u001b[K     |██████████████████████████▉     | 1.4 MB 15.6 MB/s eta 0:00:01\r\u001b[K     |███████████████████████████     | 1.4 MB 15.6 MB/s eta 0:00:01\r\u001b[K     |███████████████████████████▎    | 1.4 MB 15.6 MB/s eta 0:00:01\r\u001b[K     |███████████████████████████▌    | 1.4 MB 15.6 MB/s eta 0:00:01\r\u001b[K     |███████████████████████████▋    | 1.5 MB 15.6 MB/s eta 0:00:01\r\u001b[K     |███████████████████████████▉    | 1.5 MB 15.6 MB/s eta 0:00:01\r\u001b[K     |████████████████████████████    | 1.5 MB 15.6 MB/s eta 0:00:01\r\u001b[K     |████████████████████████████▎   | 1.5 MB 15.6 MB/s eta 0:00:01\r\u001b[K     |████████████████████████████▍   | 1.5 MB 15.6 MB/s eta 0:00:01\r\u001b[K     |████████████████████████████▋   | 1.5 MB 15.6 MB/s eta 0:00:01\r\u001b[K     |████████████████████████████▉   | 1.5 MB 15.6 MB/s eta 0:00:01\r\u001b[K     |█████████████████████████████   | 1.5 MB 15.6 MB/s eta 0:00:01\r\u001b[K     |█████████████████████████████▏  | 1.5 MB 15.6 MB/s eta 0:00:01\r\u001b[K     |█████████████████████████████▍  | 1.5 MB 15.6 MB/s eta 0:00:01\r\u001b[K     |█████████████████████████████▋  | 1.6 MB 15.6 MB/s eta 0:00:01\r\u001b[K     |█████████████████████████████▉  | 1.6 MB 15.6 MB/s eta 0:00:01\r\u001b[K     |██████████████████████████████  | 1.6 MB 15.6 MB/s eta 0:00:01\r\u001b[K     |██████████████████████████████▏ | 1.6 MB 15.6 MB/s eta 0:00:01\r\u001b[K     |██████████████████████████████▍ | 1.6 MB 15.6 MB/s eta 0:00:01\r\u001b[K     |██████████████████████████████▋ | 1.6 MB 15.6 MB/s eta 0:00:01\r\u001b[K     |██████████████████████████████▊ | 1.6 MB 15.6 MB/s eta 0:00:01\r\u001b[K     |███████████████████████████████ | 1.6 MB 15.6 MB/s eta 0:00:01\r\u001b[K     |███████████████████████████████▏| 1.6 MB 15.6 MB/s eta 0:00:01\r\u001b[K     |███████████████████████████████▍| 1.6 MB 15.6 MB/s eta 0:00:01\r\u001b[K     |███████████████████████████████▌| 1.7 MB 15.6 MB/s eta 0:00:01\r\u001b[K     |███████████████████████████████▊| 1.7 MB 15.6 MB/s eta 0:00:01\r\u001b[K     |████████████████████████████████| 1.7 MB 15.6 MB/s eta 0:00:01\r\u001b[K     |████████████████████████████████| 1.7 MB 15.6 MB/s \n",
            "\u001b[?25h  Installing build dependencies ... \u001b[?25l\u001b[?25hdone\n",
            "  Getting requirements to build wheel ... \u001b[?25l\u001b[?25hdone\n",
            "    Preparing wheel metadata ... \u001b[?25l\u001b[?25hdone\n",
            "Collecting pytools>=2011.2\n",
            "  Downloading pytools-2021.2.8.tar.gz (63 kB)\n",
            "\u001b[K     |████████████████████████████████| 63 kB 2.5 MB/s \n",
            "\u001b[?25hRequirement already satisfied: appdirs>=1.4.0 in /usr/local/lib/python3.7/dist-packages (from pycuda) (1.4.4)\n",
            "Collecting mako\n",
            "  Downloading Mako-1.1.5-py2.py3-none-any.whl (75 kB)\n",
            "\u001b[K     |████████████████████████████████| 75 kB 5.5 MB/s \n",
            "\u001b[?25hRequirement already satisfied: numpy>=1.6.0 in /usr/local/lib/python3.7/dist-packages (from pytools>=2011.2->pycuda) (1.19.5)\n",
            "Requirement already satisfied: MarkupSafe>=0.9.2 in /usr/local/lib/python3.7/dist-packages (from mako->pycuda) (2.0.1)\n",
            "Building wheels for collected packages: pycuda, pytools\n",
            "  Building wheel for pycuda (PEP 517) ... \u001b[?25l\u001b[?25hdone\n",
            "  Created wheel for pycuda: filename=pycuda-2021.1-cp37-cp37m-linux_x86_64.whl size=627017 sha256=54aa8154e03bab7149f7a280f41093cbcce32f6e9bccfafeac9753a3ecac6b68\n",
            "  Stored in directory: /root/.cache/pip/wheels/c4/ef/49/dc6a5feb8d980b37c83d465ecab24949a6aa19458522a9e001\n",
            "  Building wheel for pytools (setup.py) ... \u001b[?25l\u001b[?25hdone\n",
            "  Created wheel for pytools: filename=pytools-2021.2.8-py2.py3-none-any.whl size=60725 sha256=de78108e5eb4c99c43752199aff5afe04d19b3d323ea4ae3e2e58aedbb9116bb\n",
            "  Stored in directory: /root/.cache/pip/wheels/bd/2d/ef/0127a17bafa44971f11d05d0e38d7947144cf9e33313bf12a7\n",
            "Successfully built pycuda pytools\n",
            "Installing collected packages: pytools, mako, pycuda\n",
            "Successfully installed mako-1.1.5 pycuda-2021.1 pytools-2021.2.8\n"
          ]
        }
      ],
      "source": [
        "# !pip install pycuda"
      ]
    },
    {
      "cell_type": "code",
      "execution_count": 5,
      "metadata": {
        "id": "6Uu41FH-CRNS"
      },
      "outputs": [],
      "source": [
        "import pycuda.autoinit\n",
        "from pycuda.compiler import SourceModule\n",
        "import pycuda.driver as cuda\n",
        "import numpy as np\n",
        "import pycuda.gpuarray as gpuarray \n",
        "import sys\n",
        "import os\n",
        "import time"
      ]
    },
    {
      "cell_type": "code",
      "execution_count": 6,
      "metadata": {
        "colab": {
          "base_uri": "https://localhost:8080/"
        },
        "id": "ltqPW6gSCRkX",
        "outputId": "cb3738a8-cc8e-46a1-884c-830d0e7e9019"
      },
      "outputs": [],
      "source": [
        "# from google.colab import drive\n",
        "# drive.mount(\"/content/drive/\")\n",
        "\n",
        "# path = \"/content/drive/My Drive\"\n",
        "# sys.path.append(path)\n",
        "# os.chdir(path)\n",
        "# %cd CUDA_OpenCL/"
      ]
    },
    {
      "cell_type": "code",
      "execution_count": 17,
      "metadata": {
        "id": "L1IKB5btCSbC"
      },
      "outputs": [],
      "source": [
        "class cudaCipher:\n",
        "    def __init__(self):\n",
        "        \"\"\"\n",
        "        Attributes for instance of deviceAdd module\n",
        "        Includes kernel code and input variables.\n",
        "        \"\"\"\n",
        "        # If you are using any helper function to make \n",
        "        # blocksize or gridsize calculations, you may define them\n",
        "        # here as lambda functions. \n",
        "        # Quick lambda function to calculate grid dimensions\n",
        "        self.cal_grid_dim = lambda x, blockX: int(np.ceil(x / blockX))\n",
        "        # define block and grid dimensions\n",
        "        #\n",
        "        self.block = (1024, 1, 1)\n",
        "        \n",
        "        # kernel code wrapper\n",
        "        #\n",
        "        kernelwrapper = \"\"\"\n",
        "        __global__ void de_cipher(char* out, char* inp, const int n){\n",
        "            int idx = threadIdx.x + blockIdx.x * blockDim.x;\n",
        "            if(idx < n){\n",
        "                char cur = inp[idx];\n",
        "                if(cur - 'a' >= 0 && cur - 'a' <= 12)\n",
        "                  out[idx] = cur + 13;\n",
        "                else if(cur - 'n' >= 0 && cur - 'n' <= 12)\n",
        "                  out[idx] = cur - 13;\n",
        "                else\n",
        "                  out[idx] = cur;\n",
        "            }\n",
        "              \n",
        "            // __syncthreads();\n",
        "        }\n",
        "        \"\"\"\n",
        "        self.kernel = SourceModule(kernelwrapper)\n",
        "        # Compile the kernel code when an instance\n",
        "        # of this class is made.\n",
        "\n",
        "    \n",
        "    def devCipher(self, sentence):\n",
        "        \"\"\"\n",
        "        Function to perform on-device parallel ROT-13 encrypt/decrypt\n",
        "        by explicitly allocating device memory for host variables using\n",
        "        gpuarray.\n",
        "        Returns\n",
        "            out                             :   encrypted/decrypted result\n",
        "            time_ :   execution time in milliseconds\n",
        "        \"\"\"\n",
        "        # Get kernel function\n",
        "        decipher_func = self.kernel.get_function(\"de_cipher\")\n",
        "        # Device memory allocation for input and output array(s)\n",
        "        start = cuda.Event()\n",
        "        end = cuda.Event()\n",
        "        length = len(sentence)\n",
        "        # size = length*sys.getsizeof(sentence)\n",
        "\n",
        "        sentence = np.char.asarray(sentence) # \"good morning\" -> np.ndarray('good morning')\n",
        "        size = sentence.nbytes\n",
        "\n",
        "\n",
        "        start.record()\n",
        "        sentence_gpu = gpuarray.to_gpu(sentence)\n",
        "        output = np.empty_like(sentence)\n",
        "        output_gpu = gpuarray.to_gpu(output)\n",
        "        grid = (self.cal_grid_dim(size, self.block[0]), 1, 1)\n",
        "        # Record execution time and execute operation.\n",
        "        event = decipher_func(output_gpu, sentence_gpu, np.int32(size), block=self.block, \n",
        "                    grid=grid)\n",
        "        # Wait for the event to complete\n",
        "        end.record()\n",
        "        end.synchronize()\n",
        "        # Fetch result from device to host\n",
        "        output_cpu = output_gpu.get()\n",
        "        # Convert output array back to string\n",
        "        decrypted = str(output_cpu[0])\n",
        "        time_ = start.time_till(end)\n",
        "        return decrypted, time_\n",
        "\n",
        "    \n",
        "    def pyCipher(self, sentence):\n",
        "        \"\"\"\n",
        "        Function to perform parallel ROT-13 encrypt/decrypt using \n",
        "        vanilla python.\n",
        "\n",
        "        Returns\n",
        "            decrypted                       :   encrypted/decrypted result\n",
        "            time_         :   execution time in milliseconds\n",
        "        \"\"\"\n",
        "        decrypted = \"\"\n",
        "        start = time.time()\n",
        "        for char in sentence:\n",
        "            if 0 <= ord(char) - ord('n') <= 12:\n",
        "                decrypted += chr(ord(char) - 13)\n",
        "            elif 0 <= ord(char) - ord('a') <= 12:\n",
        "                decrypted += chr(ord(char) + 13)\n",
        "            else:\n",
        "                decrypted += char\n",
        "        end = time.time()\n",
        "        time_ = end - start\n",
        "        return decrypted, time_"
      ]
    },
    {
      "cell_type": "code",
      "execution_count": 19,
      "metadata": {
        "colab": {
          "base_uri": "https://localhost:8080/",
          "height": 385
        },
        "id": "JnyeS8EFCwij",
        "outputId": "106ecb88-dfb9-401e-a653-37b4bc13e886"
      },
      "outputs": [
        {
          "name": "stdout",
          "output_type": "stream",
          "text": [
            "CUDA output cracked in  474.7272729873657  milliseconds per sentence.\n",
            "Python output cracked in  0.08515878157182173  milliseconds per sentence.\n",
            "Checkpoint: Do python and kernel decryption match? Checking...\n",
            "Checkpoint passed!\n",
            "Writing decrypted text to file...\n"
          ]
        },
        {
          "ename": "NameError",
          "evalue": "name 'plt' is not defined",
          "output_type": "error",
          "traceback": [
            "\u001b[0;31m---------------------------------------------------------------------------\u001b[0m",
            "\u001b[0;31mNameError\u001b[0m                                 Traceback (most recent call last)",
            "\u001b[0;32m<ipython-input-19-cb472ea8d696>\u001b[0m in \u001b[0;36m<module>\u001b[0;34m\u001b[0m\n\u001b[1;32m     56\u001b[0m         \u001b[0mg\u001b[0m\u001b[0;34m.\u001b[0m\u001b[0mclose\u001b[0m\u001b[0;34m(\u001b[0m\u001b[0;34m)\u001b[0m\u001b[0;34m\u001b[0m\u001b[0;34m\u001b[0m\u001b[0m\n\u001b[1;32m     57\u001b[0m         \u001b[0;31m# Dot plot the  per-sentence execution times\u001b[0m\u001b[0;34m\u001b[0m\u001b[0;34m\u001b[0m\u001b[0;34m\u001b[0m\u001b[0m\n\u001b[0;32m---> 58\u001b[0;31m         \u001b[0mplt\u001b[0m\u001b[0;34m.\u001b[0m\u001b[0mfigure\u001b[0m\u001b[0;34m(\u001b[0m\u001b[0;34m)\u001b[0m\u001b[0;34m\u001b[0m\u001b[0;34m\u001b[0m\u001b[0m\n\u001b[0m\u001b[1;32m     59\u001b[0m         \u001b[0mplt\u001b[0m\u001b[0;34m.\u001b[0m\u001b[0mplot\u001b[0m\u001b[0;34m(\u001b[0m\u001b[0mtime_devs\u001b[0m\u001b[0;34m,\u001b[0m \u001b[0mlinewidth\u001b[0m\u001b[0;34m=\u001b[0m\u001b[0;36m2\u001b[0m\u001b[0;34m,\u001b[0m \u001b[0mcolor\u001b[0m\u001b[0;34m=\u001b[0m\u001b[0;34m\"red\"\u001b[0m\u001b[0;34m,\u001b[0m \u001b[0mlabel\u001b[0m\u001b[0;34m=\u001b[0m\u001b[0;34m\"opencl decrypted\"\u001b[0m\u001b[0;34m)\u001b[0m\u001b[0;34m\u001b[0m\u001b[0;34m\u001b[0m\u001b[0m\n\u001b[1;32m     60\u001b[0m         \u001b[0mplt\u001b[0m\u001b[0;34m.\u001b[0m\u001b[0mplot\u001b[0m\u001b[0;34m(\u001b[0m\u001b[0mtime_pys\u001b[0m\u001b[0;34m,\u001b[0m \u001b[0mlinewidth\u001b[0m\u001b[0;34m=\u001b[0m\u001b[0;36m2\u001b[0m\u001b[0;34m,\u001b[0m \u001b[0mcolor\u001b[0m\u001b[0;34m=\u001b[0m\u001b[0;34m\"blue\"\u001b[0m\u001b[0;34m,\u001b[0m \u001b[0mlabel\u001b[0m\u001b[0;34m=\u001b[0m\u001b[0;34m\"python decrypted\"\u001b[0m\u001b[0;34m)\u001b[0m\u001b[0;34m\u001b[0m\u001b[0;34m\u001b[0m\u001b[0m\n",
            "\u001b[0;31mNameError\u001b[0m: name 'plt' is not defined"
          ]
        }
      ],
      "source": [
        "if __name__ == \"__main__\":\n",
        "    # Main code\n",
        "\n",
        "    # Open text file to be deciphered.\n",
        "    # Preprocess the file to separate sentences\n",
        "    with open(\"deciphertext.txt\", 'r') as f:\n",
        "        contents = f.read().split(\".\")\n",
        "    f.close()\n",
        "    # Split string into list populated with '.' as delimiter.\n",
        "\n",
        "    # Empty lists to hold deciphered sentences, execution times\n",
        "    full_deciphered_text_dev = \"\"\n",
        "    time_devs = []\n",
        "    full_deciphered_text_py = \"\"\n",
        "    time_pys = []\n",
        "    instance = cudaCipher()\n",
        "    # Loop over each sentence in the list\n",
        "    for sentence in contents:\n",
        "        decrypted_dev, time_dev = instance.devCipher(sentence)\n",
        "        decrypted_py, time_py = instance.pyCipher(sentence)\n",
        "    # post process the string(s) if required\n",
        "        full_deciphered_text_dev += decrypted_dev + \".\"\n",
        "        full_deciphered_text_py += decrypted_py + '.'\n",
        "        time_devs.append(time_dev * 1000)\n",
        "        time_pys.append(time_py * 1000)\n",
        "    full_deciphered_text_dev = full_deciphered_text_dev.strip('.')\n",
        "    full_deciphered_text_py = full_deciphered_text_py.strip('.')\n",
        "    tc = sum(time_devs) / len(time_devs)\n",
        "    tp = sum(time_pys) / len(time_pys)\n",
        "    # Execution time\n",
        "    print(\"CUDA output cracked in \", tc, \" milliseconds per sentence.\")\n",
        "    print(\"Python output cracked in \", tp, \" milliseconds per sentence.\")\n",
        "    equal = True\n",
        "    # Error check\n",
        "    try:\n",
        "        print(\"Checkpoint: Do python and kernel decryption match? Checking...\")\n",
        "        assert full_deciphered_text_dev == full_deciphered_text_py\n",
        "        \n",
        "    except AssertionError:\n",
        "        print(\"Checkpoint failed: Python and CUDA kernel decryption do not match. Try Again!\")\n",
        "        # dump bad output to file for debugging\n",
        "        equal = False\n",
        "        raise AssertionError\n",
        "        \n",
        "\n",
        "    # If ciphers agree, proceed to write decrypted text to file\n",
        "    # and plot execution times\n",
        "    \n",
        "    if equal:\n",
        "        print(\"Checkpoint passed!\")\n",
        "        print(\"Writing decrypted text to file...\")\n",
        "\n",
        "        # Write cuda output to file\n",
        "        with open(\"deciphered_cuda.txt\", 'w') as g:\n",
        "          g.write(full_deciphered_text_dev)\n",
        "        g.close()\n",
        "        # Dot plot the  per-sentence execution times\n",
        "        plt.figure()\n",
        "        plt.plot(time_devs, linewidth=2, color=\"red\", label=\"opencl decrypted\")\n",
        "        plt.plot(time_pys, linewidth=2, color=\"blue\", label=\"python decrypted\")\n",
        "        plt.xlabel(\"sentence index\")\n",
        "        plt.ylabel(\"time in milliseconds\")\n",
        "        plt.title(\"decipher time comparison\")\n",
        "        plt.legend()\n",
        "        plt.grid()\n",
        "        # Scatter plot the  per-sentence execution times \n",
        "        plt.show()  "
      ]
    },
    {
      "cell_type": "code",
      "execution_count": null,
      "metadata": {},
      "outputs": [],
      "source": []
    },
    {
      "cell_type": "code",
      "execution_count": null,
      "metadata": {},
      "outputs": [],
      "source": []
    }
  ],
  "metadata": {
    "accelerator": "GPU",
    "colab": {
      "collapsed_sections": [],
      "name": "decipher_pycuda.ipynb",
      "provenance": []
    },
    "interpreter": {
      "hash": "fdf7c51fe71bae416eddcc8e429936b019ff907e8a09932761e48214d3299c84"
    },
    "kernelspec": {
      "display_name": "Python 3.6.9 64-bit ('cudaEnv': venv)",
      "name": "python3"
    },
    "language_info": {
      "codemirror_mode": {
        "name": "ipython",
        "version": 3
      },
      "file_extension": ".py",
      "mimetype": "text/x-python",
      "name": "python",
      "nbconvert_exporter": "python",
      "pygments_lexer": "ipython3",
      "version": "3.6.9"
    }
  },
  "nbformat": 4,
  "nbformat_minor": 0
}
