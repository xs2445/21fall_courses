{
  "nbformat": 4,
  "nbformat_minor": 0,
  "metadata": {
    "colab": {
      "name": "FrozenLake.ipynb",
      "provenance": [],
      "collapsed_sections": []
    },
    "interpreter": {
      "hash": "d8d690096e4eed88817845be1d65f715f135176ebd2e3b11765afc342cfa04f8"
    },
    "kernelspec": {
      "display_name": "Python 3.7.3 64-bit ('base': conda)",
      "name": "python3"
    },
    "language_info": {
      "codemirror_mode": {
        "name": "ipython",
        "version": 3
      },
      "file_extension": ".py",
      "mimetype": "text/x-python",
      "name": "python",
      "nbconvert_exporter": "python",
      "pygments_lexer": "ipython3",
      "version": "3.7.3"
    }
  },
  "cells": [
    {
      "cell_type": "markdown",
      "metadata": {
        "id": "L3OixcuRWfNF"
      },
      "source": [
        "## Mount the Google Drive onto the Colab as the storage location.\n",
        "\n",
        "Following the instructions returned from the below cell. You will click a web link and select the google account you want to mount, then copy the authorication code to the blank, press enter."
      ]
    },
    {
      "cell_type": "code",
      "metadata": {
        "colab": {
          "base_uri": "https://localhost:8080/",
          "height": 0
        },
        "id": "b1hg6sZyWnPL",
        "outputId": "73be9f8a-d9f6-4e85-a786-170231c6575f"
      },
      "source": [
        "# This must be run within a Google Colab environment \n",
        "from google.colab import drive\n",
        "drive.mount('/content/gdrive')"
      ],
      "execution_count": 1,
      "outputs": [
        {
          "output_type": "stream",
          "name": "stdout",
          "text": [
            "Mounted at /content/gdrive\n"
          ]
        }
      ]
    },
    {
      "cell_type": "markdown",
      "metadata": {
        "id": "OokvpclldFSu"
      },
      "source": [
        "## Append the directory location where you upload the start code folder (In this problem, *RLalgs*) to the sys.path\n",
        "\n",
        "E.g. dir = '/content/drive/My Drive/RL/.', start code folder is inside \"RL\" folder."
      ]
    },
    {
      "cell_type": "code",
      "metadata": {
        "id": "3U53Bo1zEzMq"
      },
      "source": [
        "import sys\n",
        "sys.path.append('/content/gdrive/MyDrive/2021fall/e6885/coding_assignment/.')\n",
        "# sys.path.append('</dir/to/start/code/folder/.>')"
      ],
      "execution_count": 7,
      "outputs": []
    },
    {
      "cell_type": "markdown",
      "metadata": {
        "id": "MK7mp6DNWXw8"
      },
      "source": [
        "Your code should remain in the block marked by<br />\n",
        "\\############################<br />\n",
        "\\# YOUR CODE STARTS HERE<br />\n",
        "\\# YOUR CODE ENDS HERE<br />\n",
        "\\############################<br />\n",
        "Please don't edit anything outside the block."
      ]
    },
    {
      "cell_type": "code",
      "metadata": {
        "colab": {
          "base_uri": "https://localhost:8080/",
          "height": 0
        },
        "id": "D9rxbIWoFoj8",
        "outputId": "0ec122f9-6c6c-4fca-b362-7a7cb914c9c0"
      },
      "source": [
        "%load_ext autoreload\n",
        "%autoreload 2"
      ],
      "execution_count": 8,
      "outputs": [
        {
          "output_type": "stream",
          "name": "stdout",
          "text": [
            "The autoreload extension is already loaded. To reload it, use:\n",
            "  %reload_ext autoreload\n"
          ]
        }
      ]
    },
    {
      "cell_type": "code",
      "metadata": {
        "id": "_-bkZGYkWXw9"
      },
      "source": [
        "import numpy as np\n",
        "import random\n",
        "import matplotlib.pyplot as plt\n",
        "import gym"
      ],
      "execution_count": 9,
      "outputs": []
    },
    {
      "cell_type": "markdown",
      "metadata": {
        "id": "N9gHp6NAWXxF"
      },
      "source": [
        "## 1. Incremental Implementation of Average\n",
        "We've finished the incremental implementation of average for you. Please call the function estimate with 1/step step size and fixed step size to compare the difference between this two on a simulated Bandit problem.<br />\n"
      ]
    },
    {
      "cell_type": "code",
      "metadata": {
        "colab": {
          "base_uri": "https://localhost:8080/",
          "height": 0
        },
        "id": "BjXztwInWXxF",
        "outputId": "a2fc132b-82b2-45f0-d1f4-22a60d0fb365"
      },
      "source": [
        "from RLalgs.utils import estimate\n",
        "random.seed(6885)\n",
        "numTimeStep = 10000\n",
        "q_h = np.zeros(numTimeStep + 1) # Q Value estimate with 1/step step size\n",
        "q_f = np.zeros(numTimeStep + 1) # Q value estimate with fixed step size\n",
        "FixedStepSize = 0.5 #A large number to exaggerate the difference\n",
        "for step in range(1, numTimeStep + 1):\n",
        "    if step < numTimeStep / 2:\n",
        "      # gauss distribution\n",
        "        r = random.gauss(mu = 1, sigma = 0.1)\n",
        "    else:\n",
        "        r = random.gauss(mu = 3, sigma = 0.1)\n",
        "    \n",
        "    #TIPS: Call function estimate defined in ./RLalgs/utils.py\n",
        "    ############################\n",
        "    # YOUR CODE STARTS HERE\n",
        "    q_h[step] = estimate(q_h[step-1], 1/step, r)\n",
        "    q_f[step] = estimate(q_h[step-1], FixedStepSize, r)\n",
        "    # YOUR CODE ENDS HERE\n",
        "    ############################\n",
        "    \n",
        "q_h = q_h[1:]\n",
        "q_f = q_f[1:]"
      ],
      "execution_count": 10,
      "outputs": [
        {
          "output_type": "stream",
          "name": "stdout",
          "text": [
            "RLalgs is a package containing Reinforcement Learning algorithms Epsilon-Greedy, Policy Iteration, Value Iteration, Q-Learning, and SARSA.\n"
          ]
        }
      ]
    },
    {
      "cell_type": "markdown",
      "metadata": {
        "id": "6qLlFr3VWXxM"
      },
      "source": [
        "Plot the two Q value estimates. (Please include a title, labels on both axes, and legends)<br />"
      ]
    },
    {
      "cell_type": "code",
      "metadata": {
        "colab": {
          "base_uri": "https://localhost:8080/",
          "height": 424
        },
        "id": "rhWYCi08WXxO",
        "outputId": "7aa0d1f7-79a8-4d80-9888-972b5a7b89c9"
      },
      "source": [
        "############################\n",
        "# YOUR CODE STARTS HERE\n",
        "\n",
        "plt.figure(figsize=(14,6))\n",
        "\n",
        "# fixed stpsize\n",
        "plt.plot(range(numTimeStep), q_f, label='fixed')\n",
        "# 1/step stepsize\n",
        "plt.plot(range(numTimeStep), q_h, label='1/step')\n",
        "plt.grid()\n",
        "plt.legend(fontsize=16)\n",
        "plt.title('Estimated Reward of Bandit Problem', fontsize=24)\n",
        "plt.ylabel('Estimated Reward', fontsize=16, labelpad=10)\n",
        "plt.xlabel('Steps', fontsize=16, labelpad=10);\n",
        "\n",
        "# YOUR CODE ENDS HERE\n",
        "############################"
      ],
      "execution_count": 11,
      "outputs": [
        {
          "output_type": "display_data",
          "data": {
            "image/png": "[encoded data removed]",
            "text/plain": [
              "<Figure size 1008x432 with 1 Axes>"
            ]
          },
          "metadata": {
            "needs_background": "light"
          }
        }
      ]
    },
    {
      "cell_type": "markdown",
      "metadata": {
        "id": "2-taF6umWXxU"
      },
      "source": [
        "## 2. $\\epsilon$-Greedy for Exploration\n",
        "In Reinforcement Learning, we are always faced with the dilemma of exploration and exploitation. $\\epsilon$-Greedy is a trade-off between them. You are gonna implement Greedy and $\\epsilon$-Greedy. We combine these two policies in one function by treating Greedy as $\\epsilon$-Greedy where $\\epsilon = 0$. Edit the function epsilon_greedy in ./RLalgs/utils.py.<br />\n"
      ]
    },
    {
      "cell_type": "code",
      "metadata": {
        "colab": {
          "base_uri": "https://localhost:8080/",
          "height": 0
        },
        "id": "x0N5VJAGWXxV",
        "outputId": "a42b4e88-d5f8-43f5-fd94-43b56d126907"
      },
      "source": [
        "from RLalgs.utils import epsilon_greedy\n",
        "np.random.seed(6885) #Set the seed to cancel the randomness\n",
        "q = np.random.normal(0, 1, size = 5)\n",
        "############################\n",
        "# YOUR CODE STARTS HERE\n",
        "greedy_action = epsilon_greedy(q, 0) #Use epsilon = 0 for Greedy\n",
        "e_greedy_action = epsilon_greedy(q, 0.1) #Use epsilon = 0.1\n",
        "# YOUR CODE ENDS HERE\n",
        "############################\n",
        "print('Values:')\n",
        "print(q)\n",
        "print('Greedy Choice =', greedy_action)\n",
        "print('Epsilon-Greedy Choice =', e_greedy_action)"
      ],
      "execution_count": 12,
      "outputs": [
        {
          "output_type": "stream",
          "name": "stdout",
          "text": [
            "Values:\n",
            "[ 0.61264537  0.27923079 -0.84600857  0.05469574 -1.09990968]\n",
            "Greedy Choice = 0\n",
            "Epsilon-Greedy Choice = 0\n"
          ]
        }
      ]
    },
    {
      "cell_type": "markdown",
      "metadata": {
        "id": "SMZNXHPWWXxg"
      },
      "source": [
        "You should get the following results.<br />\n",
        "Values:<br />\n",
        "\\[ 0.61264537  0.27923079 -0.84600857  0.05469574 -1.09990968\\]<br />\n",
        "Greedy Choice = 0<br />"
      ]
    },
    {
      "cell_type": "markdown",
      "metadata": {
        "id": "80csLoFuWXxg"
      },
      "source": [
        "## 3. Frozen Lake Environment "
      ]
    },
    {
      "cell_type": "code",
      "metadata": {
        "id": "Ag1egsO0WXxh"
      },
      "source": [
        "env = gym.make('FrozenLake-v0')"
      ],
      "execution_count": 14,
      "outputs": []
    },
    {
      "cell_type": "markdown",
      "metadata": {
        "id": "raHDV2igWXxl"
      },
      "source": [
        "### 3.1 Derive Q value from V value\n",
        "Edit function action_evaluation in ./RLalgs/utils.py.<br />\n",
        "TIPS: $q(s, a)=\\sum_{s',r}p(s',r|s,a)(r+\\gamma v(s'))$<br />"
      ]
    },
    {
      "cell_type": "code",
      "metadata": {
        "colab": {
          "base_uri": "https://localhost:8080/",
          "height": 0
        },
        "id": "kjiPzPVzWXxs",
        "outputId": "37f99575-57ad-495a-c470-24a9dafd249f"
      },
      "source": [
        "from RLalgs.utils import action_evaluation\n",
        "v = np.ones(16)\n",
        "q = action_evaluation(env = env.env, gamma = 1, v = v)\n",
        "print('Action values:')\n",
        "print(q)"
      ],
      "execution_count": 15,
      "outputs": [
        {
          "output_type": "stream",
          "name": "stdout",
          "text": [
            "Action values:\n",
            "[[1.         1.         1.         1.        ]\n",
            " [1.         1.         1.         1.        ]\n",
            " [1.         1.         1.         1.        ]\n",
            " [1.         1.         1.         1.        ]\n",
            " [1.         1.         1.         1.        ]\n",
            " [1.         1.         1.         1.        ]\n",
            " [1.         1.         1.         1.        ]\n",
            " [1.         1.         1.         1.        ]\n",
            " [1.         1.         1.         1.        ]\n",
            " [1.         1.         1.         1.        ]\n",
            " [1.         1.         1.         1.        ]\n",
            " [1.         1.         1.         1.        ]\n",
            " [1.         1.         1.         1.        ]\n",
            " [1.         1.         1.         1.        ]\n",
            " [1.         1.33333333 1.33333333 1.33333333]\n",
            " [1.         1.         1.         1.        ]]\n"
          ]
        }
      ]
    },
    {
      "cell_type": "markdown",
      "metadata": {
        "id": "naD8LRw7WXy_"
      },
      "source": [
        "You should get Q values all equal to one except at State 14"
      ]
    },
    {
      "cell_type": "markdown",
      "metadata": {
        "id": "VjtGfJkCWXzA"
      },
      "source": [
        "Pseudo-codes of the following four algorithms can be found on Page 80, 83, 130, 131 of the Sutton's book."
      ]
    },
    {
      "cell_type": "markdown",
      "metadata": {
        "id": "npMqmLkzWXzB"
      },
      "source": [
        "### 3.2 Model-based RL algorithms"
      ]
    },
    {
      "cell_type": "code",
      "metadata": {
        "id": "UTkYNUuJWXzC"
      },
      "source": [
        "from RLalgs.utils import action_evaluation, action_selection, render"
      ],
      "execution_count": 16,
      "outputs": []
    },
    {
      "cell_type": "markdown",
      "metadata": {
        "id": "s8BWq8PLWXzH"
      },
      "source": [
        "### 3.2.1 Policy Iteration\n",
        "Edit the function policy_iteration and relevant functions in ./RLalgs/pi.py to implement the Policy Iteration Algorithm.<br />"
      ]
    },
    {
      "cell_type": "code",
      "metadata": {
        "colab": {
          "base_uri": "https://localhost:8080/",
          "height": 0
        },
        "id": "fYEuSethWXzI",
        "outputId": "d622e313-4f5a-4086-fa5b-d592f688d1ec"
      },
      "source": [
        "from RLalgs.pi import policy_iteration\n",
        "V, policy, numIterations = policy_iteration(env = env.env, gamma = 1, max_iteration = 500, theta = 1e-7)\n",
        "print('State values:')\n",
        "print(V)\n",
        "print('Number of iterations to converge =', numIterations)"
      ],
      "execution_count": 17,
      "outputs": [
        {
          "output_type": "stream",
          "name": "stdout",
          "text": [
            "State values:\n",
            "[0.82352769 0.82352712 0.82352673 0.82352653 0.82352786 0.\n",
            " 0.52941059 0.         0.82352813 0.82352848 0.76470507 0.\n",
            " 0.         0.88235229 0.94117614 0.        ]\n",
            "Number of iterations to converge = 500\n"
          ]
        }
      ]
    },
    {
      "cell_type": "markdown",
      "metadata": {
        "id": "4q6PmhZZWXzS"
      },
      "source": [
        "You should get values close to:<br />\n",
        "State values:<br />\n",
        "\\[0.82352774 0.8235272  0.82352682 0.82352662 0.82352791 0.<br />\n",
        "0.52941063 0.         0.82352817 0.82352851 0.76470509 0.<br />0.         0.88235232 0.94117615 0.\\]"
      ]
    },
    {
      "cell_type": "code",
      "metadata": {
        "id": "olPkpHkhWXzT"
      },
      "source": [
        "#Uncomment and run the following to evaluate your result, comment them when you generate the pdf\n",
        "# Q = action_evaluation(env = env.env, gamma = 1, v = V)\n",
        "# policy_estimate = action_selection(Q)\n",
        "# render(env, policy_estimate)"
      ],
      "execution_count": 32,
      "outputs": []
    },
    {
      "cell_type": "markdown",
      "metadata": {
        "id": "gutmkVWaWXzi"
      },
      "source": [
        "### 3.2.2 Value Iteration\n",
        "Edit the function value_iteration and relevant functions in ./RLalgs/vi.py to implement the Value Iteration Algorithm.<br />"
      ]
    },
    {
      "cell_type": "code",
      "metadata": {
        "colab": {
          "base_uri": "https://localhost:8080/",
          "height": 0
        },
        "id": "0j9ZEkPyWXzj",
        "outputId": "df627fd1-bffd-4bd9-8643-632e9e706b73"
      },
      "source": [
        "from RLalgs.vi import value_iteration\n",
        "V, policy, numIterations = value_iteration(env = env.env, gamma = 1, max_iteration = 500, theta = 1e-7)\n",
        "print('State values:')\n",
        "print(V)\n",
        "print('Number of iterations to converge =', numIterations)"
      ],
      "execution_count": 19,
      "outputs": [
        {
          "output_type": "stream",
          "name": "stdout",
          "text": [
            "State values:\n",
            "[0.82352513 0.82352369 0.82352267 0.82352214 0.82352544 0.\n",
            " 0.5294087  0.         0.82352604 0.82352689 0.76470365 0.\n",
            " 0.         0.88235115 0.94117554 0.        ]\n",
            "Number of iterations to converge = 500\n"
          ]
        }
      ]
    },
    {
      "cell_type": "markdown",
      "metadata": {
        "id": "YUTMsRrxWXzr"
      },
      "source": [
        "You should get values close to:<br />\n",
        "State values:<br />\n",
        "\\[0.82352773 0.82352718  0.8235268 0.8235266 0.8235279 0.<br />\n",
        "0.52941062 0.         0.82352816 0.8235285 0.76470509 0.<br />0.         0.88235231 0.94117615 0.\\]"
      ]
    },
    {
      "cell_type": "code",
      "metadata": {
        "id": "rNcCXWuzWXzs"
      },
      "source": [
        "#Uncomment and run the following to evaluate your result, comment them when you generate the pdf\n",
        "# Q = action_evaluation(env = env.env, gamma = 1, v = V)\n",
        "# policy_estimate = action_selection(Q)\n",
        "# render(env, policy_estimate)"
      ],
      "execution_count": 23,
      "outputs": []
    },
    {
      "cell_type": "markdown",
      "metadata": {
        "id": "_InsqQe3WXzw"
      },
      "source": [
        "### 3.3 Model free RL algorithms"
      ]
    },
    {
      "cell_type": "markdown",
      "metadata": {
        "id": "QNir2YPgWXzw"
      },
      "source": [
        "### 3.3.1 Q-Learning\n",
        "Edit the function QLearning in ./RLalgs/ql.py to implement the Q-Learning Algorithm.<br />"
      ]
    },
    {
      "cell_type": "code",
      "metadata": {
        "colab": {
          "base_uri": "https://localhost:8080/",
          "height": 0
        },
        "id": "x4jpOau5WXzx",
        "outputId": "0d0ec372-441d-40b3-be3c-3f644a1aa0a5"
      },
      "source": [
        "from RLalgs.ql import QLearning\n",
        "Q = QLearning(env = env.env, num_episodes = 1000, gamma = 1, lr = 0.1, e = 0.1)\n",
        "print('Action values:')\n",
        "print(Q)"
      ],
      "execution_count": 21,
      "outputs": [
        {
          "output_type": "stream",
          "name": "stdout",
          "text": [
            "Action values:\n",
            "[[2.11199210e-03 3.67909924e-02 3.60097180e-03 1.08141550e-02]\n",
            " [4.47010439e-03 2.63382467e-02 3.84696543e-02 1.33505818e-02]\n",
            " [8.13408307e-02 2.51285268e-02 3.30812594e-02 1.18327649e-02]\n",
            " [2.51288321e-02 3.10232495e-03 7.19206088e-05 4.24684003e-05]\n",
            " [6.55202187e-02 4.36773528e-03 8.78594226e-03 5.15825836e-03]\n",
            " [0.00000000e+00 0.00000000e+00 0.00000000e+00 0.00000000e+00]\n",
            " [8.56434774e-02 2.97735169e-02 4.43788385e-02 2.83638073e-03]\n",
            " [0.00000000e+00 0.00000000e+00 0.00000000e+00 0.00000000e+00]\n",
            " [8.00560910e-03 9.28663313e-02 3.80966177e-02 3.16427834e-02]\n",
            " [0.00000000e+00 2.39119991e-01 1.11204636e-01 7.51017004e-02]\n",
            " [1.09846695e-01 8.27005453e-02 2.97020742e-01 8.02628561e-03]\n",
            " [0.00000000e+00 0.00000000e+00 0.00000000e+00 0.00000000e+00]\n",
            " [0.00000000e+00 0.00000000e+00 0.00000000e+00 0.00000000e+00]\n",
            " [6.73159352e-02 9.08349828e-02 7.21099186e-02 2.14149757e-01]\n",
            " [1.78006566e-01 6.54237672e-01 3.21100169e-01 2.51990747e-01]\n",
            " [0.00000000e+00 0.00000000e+00 0.00000000e+00 0.00000000e+00]]\n"
          ]
        }
      ]
    },
    {
      "cell_type": "markdown",
      "metadata": {
        "id": "JhRDkVUjWX0D"
      },
      "source": [
        "Generally, you should get non-zero action values on non-terminal states."
      ]
    },
    {
      "cell_type": "code",
      "metadata": {
        "id": "JW8ZbutmWX0E"
      },
      "source": [
        "#Uncomment the following to evaluate your result, comment them when you generate the pdf\n",
        "# env = gym.make('FrozenLake-v1')\n",
        "# policy_estimate = action_selection(Q)\n",
        "# render(env, policy_estimate)"
      ],
      "execution_count": 24,
      "outputs": []
    },
    {
      "cell_type": "markdown",
      "metadata": {
        "id": "sw5I3ZXdWX0G"
      },
      "source": [
        "### 3.3.2 SARSA\n",
        "Edit the function SARSA in ./RLalgs/sarsa.py to implement the SARSA Algorithm.<br />"
      ]
    },
    {
      "cell_type": "code",
      "metadata": {
        "colab": {
          "base_uri": "https://localhost:8080/",
          "height": 0
        },
        "id": "I-bvEnPuWX0H",
        "outputId": "9843b9b3-46df-41de-fcf9-7c69f0a0e1f1"
      },
      "source": [
        "from RLalgs.sarsa import SARSA\n",
        "Q = SARSA(env = env.env, num_episodes = 1000, gamma = 1, lr = 0.1, e = 0.1)\n",
        "print('Action values:')\n",
        "print(Q)"
      ],
      "execution_count": 25,
      "outputs": [
        {
          "output_type": "stream",
          "name": "stdout",
          "text": [
            "Action values:\n",
            "[[7.46111235e-02 6.73376815e-02 1.08750153e-01 5.56249585e-02]\n",
            " [3.07835188e-02 2.18086590e-02 2.41144029e-02 1.13791892e-01]\n",
            " [1.48316881e-01 2.25421919e-02 6.39042944e-02 3.25353974e-02]\n",
            " [2.07363577e-02 9.38229063e-03 1.03752717e-02 7.68844233e-02]\n",
            " [1.38554506e-01 9.82300893e-02 3.70805732e-02 5.50829298e-02]\n",
            " [0.00000000e+00 0.00000000e+00 0.00000000e+00 0.00000000e+00]\n",
            " [1.48074228e-01 2.01559919e-02 5.49124151e-02 1.81843732e-04]\n",
            " [0.00000000e+00 0.00000000e+00 0.00000000e+00 0.00000000e+00]\n",
            " [8.18453622e-02 1.21912079e-01 5.07193900e-02 1.81406611e-01]\n",
            " [5.73904157e-02 2.33346024e-01 1.31252032e-01 4.75127127e-02]\n",
            " [3.14899445e-01 2.88634098e-01 2.13909429e-01 5.06246406e-02]\n",
            " [0.00000000e+00 0.00000000e+00 0.00000000e+00 0.00000000e+00]\n",
            " [0.00000000e+00 0.00000000e+00 0.00000000e+00 0.00000000e+00]\n",
            " [1.17805420e-01 2.08277949e-01 1.68114919e-01 1.52920155e-01]\n",
            " [2.21025847e-01 5.08879901e-01 3.64096881e-01 3.97002465e-01]\n",
            " [0.00000000e+00 0.00000000e+00 0.00000000e+00 0.00000000e+00]]\n"
          ]
        }
      ]
    },
    {
      "cell_type": "markdown",
      "metadata": {
        "id": "dhaj57nZWX0L"
      },
      "source": [
        "Generally, you should get non-zero action values on non-terminal states."
      ]
    },
    {
      "cell_type": "code",
      "metadata": {
        "id": "2X3qsekoWX0M"
      },
      "source": [
        "#Uncomment the following to evaluate your result, comment them when you generate the pdf\n",
        "# env = gym.make('FrozenLake-v0')\n",
        "# policy_estimate = action_selection(Q)\n",
        "# render(env, policy_estimate)"
      ],
      "execution_count": 28,
      "outputs": []
    },
    {
      "cell_type": "markdown",
      "metadata": {
        "id": "yVArXevGWX0P"
      },
      "source": [
        "### 3.4 Human\n",
        "You can play this game if you are interested. See if you can get the frisbee either with or without the model."
      ]
    },
    {
      "cell_type": "code",
      "metadata": {
        "id": "l2zKGeoSWX0Q"
      },
      "source": [
        "from RLalgs.utils import human_play\n",
        "# Uncomment and run the following to play the game, comment it when you generate the pdf\n",
        "# env = gym.make('FrozenLake-v1')\n",
        "# human_play(env)"
      ],
      "execution_count": 29,
      "outputs": []
    },
    {
      "cell_type": "markdown",
      "metadata": {
        "id": "_uHP9HIrWX0S"
      },
      "source": [
        "## 4. Exploration VS. Exploitation\n",
        "Try to reproduce Figure 2.2 (the upper one is enough) of the Sutton's book based on the experiment described in [Chapter 2.3](http://incompleteideas.net/book/RLbook2020.pdf).<br />"
      ]
    },
    {
      "cell_type": "code",
      "metadata": {
        "id": "J5-6tfS2FokI"
      },
      "source": [
        "from RLalgs.utils import *\n",
        "\n",
        "class Bandit():\n",
        "    def __init__(self, num_arm, num_iter, eps):\n",
        "        \"\"\"\n",
        "        Bandit problem following e-greedy policy, the arm machien follow normal distribution\n",
        "\n",
        "        Inputs:\n",
        "        - num_arm: the number of arm machine\n",
        "        - num_iter: the number of total actions to be taken\n",
        "        - eps: epsilon in e-greedy policy\n",
        "        \n",
        "        \"\"\"\n",
        "        # number of arms\n",
        "        self.num_arm = num_arm\n",
        "        # number of total actions to be taken\n",
        "        self.num_iter = num_iter\n",
        "        # epsilon\n",
        "        self.eps = eps\n",
        "        # record average reward for the whole game\n",
        "        self.reward = 0\n",
        "        # self.reward_hist = [0]\n",
        "        self.reward_hist = np.zeros(num_iter+1)\n",
        "        self.reward_hist[0] = 0\n",
        "        # record average reward for each arms\n",
        "        self.q = np.zeros(num_arm)\n",
        "        # number of actions taken for the whole game\n",
        "        self.num_step = 0\n",
        "        # number of actions taken on each arms\n",
        "        self.num_step_arm = np.zeros(num_arm)\n",
        "        # initialize arms\n",
        "        self.arms = None\n",
        "        self.init_arms()\n",
        "\n",
        "    def reset(self, eps, num_iter):\n",
        "        \"\"\"\n",
        "        reset eps and reward\n",
        "        \"\"\"\n",
        "        self.reward = 0\n",
        "        # self.reward_hist = [0]\n",
        "        self.reward_hist = np.zeros(num_iter+1)\n",
        "        self.reward_hist[0] = 0\n",
        "        self.q = np.zeros_like(self.q)\n",
        "        self.num_step = 0\n",
        "        self.num_step_arm = np.zeros_like(self.num_step_arm)\n",
        "        self.eps = eps\n",
        "        self.num_iter = num_iter\n",
        "    \n",
        "    def init_arms(self):\n",
        "        \"\"\"\n",
        "        Initialize arms by randomly choose mu and std for normal distribution\n",
        "\n",
        "        mu follows normal distribution\n",
        "        std = 1\n",
        "\n",
        "        store in array self.arms, which has size 2*num_arm\n",
        "        first row of arms is mu\n",
        "        second row of arms is std\n",
        "        \"\"\"\n",
        "        assert self.arms == None, 'Arms already defined'\n",
        "\n",
        "        # first row is mu, secound row is std\n",
        "        # arms = np.random.rand(2, self.num_arm)\n",
        "        arms = np.random.normal(0,1,(2,self.num_arm))\n",
        "\n",
        "        # arms[0,:] = arms[0,:]*4 - 2\n",
        "        # arms[1,:] = arms[1,:]*10 + 20\n",
        "        arms[1,:] = 1\n",
        "\n",
        "        self.arms = arms\n",
        "        \n",
        "    def take_action(self, a):\n",
        "        \"\"\"\n",
        "        Take action a, range of a is [0,num_arm-1], return the reward of that action\n",
        "\n",
        "        Input:\n",
        "        - a: the action to be taken\n",
        "        \n",
        "        Output:\n",
        "        - r: reward of that action\n",
        "        \"\"\"\n",
        "\n",
        "        return np.random.normal(self.arms[0,a], self.arms[1,a])\n",
        "\n",
        "    def step(self):\n",
        "        \"\"\"\n",
        "        one step forward, choose the action following the e-greedy policy\n",
        "        \"\"\"\n",
        "\n",
        "        # e-greedy policy\n",
        "        a = epsilon_greedy(self.q, self.eps)\n",
        "        # get reward of that action\n",
        "        r = self.take_action(a)\n",
        "        # update steps taken\n",
        "        self.num_step += 1\n",
        "        self.num_step_arm[a] += 1\n",
        "        # update the total average reward and the average reward of that arm\n",
        "        self.reward = estimate(self.reward, 1/self.num_step, r)\n",
        "        # self.reward_hist.append(self.reward)\n",
        "        self.q[a] = estimate(self.q[a], 1/self.num_step_arm[a], r)\n",
        "\n",
        "    def run(self):\n",
        "        \"\"\"\n",
        "        play the game for iteration times\n",
        "\n",
        "        Output:\n",
        "        - history of total average reward\n",
        "        \"\"\"\n",
        "        for i in range(self.num_iter):\n",
        "            self.step()\n",
        "            self.reward_hist[i+1] = self.reward\n",
        "\n",
        "        return self.reward_hist\n",
        "\n",
        "\n"
      ],
      "execution_count": 30,
      "outputs": []
    },
    {
      "cell_type": "markdown",
      "metadata": {
        "id": "wMfbvo9oWX0Y"
      },
      "source": [
        "You should get curves similar to that in the book."
      ]
    },
    {
      "cell_type": "code",
      "metadata": {
        "colab": {
          "base_uri": "https://localhost:8080/",
          "height": 467
        },
        "id": "laF0qy4fFokJ",
        "outputId": "affd556a-ba94-459d-aa10-bcf227669314"
      },
      "source": [
        "# Plot the average reward\n",
        "############################\n",
        "\n",
        "\n",
        "num_arms = 10\n",
        "num_iter = 1000\n",
        "num_repeat = 1000\n",
        "\n",
        "hist_0 = np.zeros(num_iter+1)\n",
        "hist_001 = np.zeros(num_iter+1)\n",
        "hist_01 = np.zeros(num_iter+1)\n",
        "\n",
        "\n",
        "for i in range(1, num_repeat+1):\n",
        "    eps = 0\n",
        "    bandit = Bandit(num_arms, num_iter, 0)\n",
        "    hist_0 += bandit.run()\n",
        "\n",
        "    # eps = 0.01\n",
        "    bandit.reset(0.01, num_iter)\n",
        "    hist_001 += bandit.run()\n",
        "\n",
        "\n",
        "    # eps = 0.1\n",
        "    bandit.reset(0.1, num_iter)\n",
        "    hist_01 += bandit.run()\n",
        "\n",
        "    if i%100 == 0:\n",
        "        print('Repeated %d times' % (i))\n",
        "\n",
        "hist_0 /= num_repeat\n",
        "hist_001 /= num_repeat\n",
        "hist_01 /= num_repeat\n",
        "\n",
        "plt.figure()\n",
        "plt.plot(hist_0, 'g', label=\"$\\epsilon=0$ (Greedy)\")\n",
        "plt.plot(hist_001, 'r', label=\"$\\epsilon=0.01$\")\n",
        "plt.plot(hist_01, 'b', label=\"$\\epsilon=0.1$\")\n",
        "plt.title(\"Average $\\epsilon-greedy$ rewards after %d Repeats\" % (num_repeat)) \n",
        "plt.xlabel(\"Steps\")\n",
        "plt.ylabel(\"Average Reward\")\n",
        "plt.legend();\n",
        "\n",
        "\n",
        "# YOUR CODE ENDS HERE\n",
        "############################"
      ],
      "execution_count": 31,
      "outputs": [
        {
          "output_type": "stream",
          "name": "stdout",
          "text": [
            "Repeated 100 times\n",
            "Repeated 200 times\n",
            "Repeated 300 times\n",
            "Repeated 400 times\n",
            "Repeated 500 times\n",
            "Repeated 600 times\n",
            "Repeated 700 times\n",
            "Repeated 800 times\n",
            "Repeated 900 times\n",
            "Repeated 1000 times\n"
          ]
        },
        {
          "output_type": "display_data",
          "data": {
            "image/png": "[encoded data removed]",
            "text/plain": [
              "<Figure size 432x288 with 1 Axes>"
            ]
          },
          "metadata": {
            "needs_background": "light"
          }
        }
      ]
    }
  ]
}