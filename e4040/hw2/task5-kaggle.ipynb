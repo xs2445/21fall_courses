{
 "cells": [
  {
   "cell_type": "markdown",
   "metadata": {},
   "source": [
    "## Columbia University\n",
    "### ECBM E4040 Neural Networks and Deep Learning. Fall 2021."
   ]
  },
  {
   "cell_type": "markdown",
   "metadata": {},
   "source": [
    "# ECBM E4040 - Assignment 2- Task 5: Kaggle Open-ended Competition\n",
    "\n",
    "Kaggle is a platform for predictive modelling and analytics competitions in which companies and researchers post data and statisticians and data miners compete to produce the best models for predicting and describing the data.\n",
    "\n",
    "If you don't have a Kaggle account, feel free to join at [www.kaggle.com](https://www.kaggle.com). To let the CAs do the grading more conveniently, please __use Lionmail to join Kaggle__ and __use UNI as your username__.\n",
    "\n",
    "The competition is located here: https://www.kaggle.com/c/ecbm4040-assignment-2-task-5/overview.\n",
    "\n",
    "You can find detailed description about this in-class competition on the website above. Please read carefully and follow the instructions.\n",
    "\n",
    "<span style=\"color:red\">__TODO__:</span>\n",
    "1. Train a custom model for the bottle dataset classification problem. You are free to use any methods taught in the class or found by yourself on the Internet (ALWAYS provide reference to the source).\n",
    "General training methods include:\n",
    "    * Dropout\n",
    "    * Batch normalization\n",
    "    * Early stopping\n",
    "    * l1-norm & l2-norm penalization\n",
    "    \n",
    "2. You are given the test set to generate your predictions (70% public + 30% private, but you don't know which ones are public/private). Students should achieve an accuracy on the public test set of at least 70%. Two points will be deducted for each 1% below 70% accuracy threshold (i.e. 65% accuracy will have 10 points deducted). The accuracy will be shown on the public leaderboard once you submit your prediction .csv file. The private leaderboard will be released after the competition. The final ranking is based on the private leaderboard result, not the public leaderboard.\n",
    "3. \n",
    "\n",
    "    * Report your results on the Kaggle, for comparison with other students' optimal results (you can do this several times). \n",
    "    * Save your best model, using Github Classroom, at the same time when you submit the homework files into Courseworks. See instructions below. \n",
    "\n",
    "__Hint__: You can start from what you implemented in task 4. Another classic classification model named 'VGG16' can also be easily implemented. Students are allowed to use pretrained networks, and utilize transfer learning. "
   ]
  },
  {
   "cell_type": "markdown",
   "metadata": {},
   "source": [
    "## HW Submission Details:\n",
    "There are three components to reporting the results of this task: \n",
    "\n",
    "**(A) Submission (up to 20 submissions each day) of the .csv prediction file throught the Kaggle platform;**. You should start doing this __VERY early__, so that students can compare their work as they are making progress with model optimization.\n",
    "\n",
    "**(B) Editing and submitting the content of this Jupyter notebook, through Courseworks; **\n",
    "(i) The code for your CNN model and for the training function. The code should be stored in __./ecbm4040/neuralnets/kaggle.py__;\n",
    "(ii) Print out your training process and accuracy __within this notebook__;\n",
    "\n",
    "**(C) Submitting your best CNN model through Github Classroom repo.**\n",
    "\n",
    "**Description of (C):** \n",
    "For this task, we will continue to use Github classroom to save your model for submission. \n",
    "\n",
    "<span style=\"color:red\">__Submission content:__ :</span>\n",
    "(i) In your Assignment 2 submission folder, create a subfolder called __KaggleModel__. Upload your best model with all the data output (for example, __MODEL.data-00000-of-00001, MODEL.meta, MODEL.index__) into the folder. \n",
    "(ii) Remember to delete any intermediate results, **we only want your best model. Do not upload any data files**. The instructors will rerun the uploaded best model and verify against the score which you reported on the Kaggle.\n",
    "\n"
   ]
  },
  {
   "cell_type": "markdown",
   "metadata": {},
   "source": [
    "## Load Data"
   ]
  },
  {
   "cell_type": "code",
   "execution_count": 1,
   "metadata": {
    "tags": []
   },
   "outputs": [
    {
     "name": "stdout",
     "output_type": "stream",
     "text": [
      "Reading folder 1\n",
      "Reading folder 3\n",
      "Reading folder 0\n",
      "Reading folder 2\n",
      "Reading folder 4\n",
      "Reading Test Images\n",
      "Training data shape:  (15000, 128, 128, 3)\n",
      "Training labels shape:  (15000,)\n",
      "Test data shape:  (3500, 128, 128, 3)\n"
     ]
    }
   ],
   "source": [
    "#Generate dataset\n",
    "import os\n",
    "import pandas as pd\n",
    "import numpy as np\n",
    "from PIL import Image\n",
    "\n",
    "\n",
    "#Load Training images and labels\n",
    "train_directory = \"./data/kaggle_train_128/train_128\" #TODO: Enter path for train128 folder (hint: use os.getcwd())\n",
    "image_list=[]\n",
    "label_list=[]\n",
    "for sub_dir in os.listdir(train_directory):\n",
    "    print(\"Reading folder {}\".format(sub_dir))\n",
    "    sub_dir_name=os.path.join(train_directory,sub_dir)\n",
    "    for file in os.listdir(sub_dir_name):\n",
    "        filename = os.fsdecode(file)\n",
    "        if filename.endswith(\".jpg\") or filename.endswith(\".png\"):\n",
    "            image_list.append(np.array(Image.open(os.path.join(sub_dir_name,file))))\n",
    "            label_list.append(int(sub_dir))\n",
    "X_train=np.array(image_list)\n",
    "y_train=np.array(label_list)\n",
    "\n",
    "#Load Test images\n",
    "test_directory = \"./data/kaggle_test_128/test_128\"#TODO: Enter path for test128 folder (hint: use os.getcwd())\n",
    "test_image_list=[]\n",
    "test_df = pd.DataFrame([], columns=['Id', 'X'])\n",
    "print(\"Reading Test Images\")\n",
    "for file in os.listdir(test_directory):\n",
    "    filename = os.fsdecode(file)\n",
    "    if filename.endswith(\".jpg\") or filename.endswith(\".png\"):\n",
    "        test_df = test_df.append({\n",
    "            'Id': filename,\n",
    "            'X': np.array(Image.open(os.path.join(test_directory,file)))\n",
    "        }, ignore_index=True)\n",
    "        \n",
    "test_df['s'] = [int(x.split('.')[0]) for x in test_df['Id']]\n",
    "test_df = test_df.sort_values(by=['s'])\n",
    "test_df = test_df.drop(columns=['s'])\n",
    "X_test = np.stack(test_df['X'])\n",
    "\n",
    "\n",
    "print('Training data shape: ', X_train.shape)\n",
    "print('Training labels shape: ', y_train.shape)\n",
    "print('Test data shape: ', X_test.shape)"
   ]
  },
  {
   "cell_type": "markdown",
   "metadata": {},
   "source": [
    "## Build and Train Your Model Here"
   ]
  },
  {
   "cell_type": "code",
   "execution_count": 2,
   "metadata": {},
   "outputs": [
    {
     "name": "stdout",
     "output_type": "stream",
     "text": [
      "[PhysicalDevice(name='/physical_device:GPU:0', device_type='GPU')]\n"
     ]
    }
   ],
   "source": [
    "# YOUR CODE HERE\n",
    "import tensorflow as tf\n",
    "from tensorflow.keras.preprocessing.image import ImageDataGenerator\n",
    "\n",
    "# import datetime\n",
    "from tensorflow.keras.callbacks import EarlyStopping\n",
    "from tensorflow.keras.callbacks import ReduceLROnPlateau\n",
    "\n",
    "%load_ext autoreload\n",
    "%autoreload 2\n",
    "\n",
    "\n",
    "gpu_devices = tf.config.experimental.list_physical_devices('GPU')\n",
    "print(gpu_devices)"
   ]
  },
  {
   "cell_type": "code",
   "execution_count": 3,
   "metadata": {},
   "outputs": [
    {
     "name": "stdout",
     "output_type": "stream",
     "text": [
      "After split:\n",
      "Training data shape:  (13500, 128, 128, 3)\n",
      "Training labels shape:  (13500,)\n",
      "Validation data shape:  (1500, 128, 128, 3)\n",
      "Validation labels shape:  (1500,)\n"
     ]
    }
   ],
   "source": [
    "from sklearn.model_selection import train_test_split\n",
    "\n",
    "x_split_train, x_val, y_split_train, y_val = train_test_split(X_train, y_train, test_size=0.1, random_state=42)\n",
    "print('After split:')\n",
    "print('Training data shape: ', x_split_train.shape)\n",
    "print('Training labels shape: ', y_split_train.shape)\n",
    "print('Validation data shape: ', x_val.shape)\n",
    "print('Validation labels shape: ', y_val.shape)"
   ]
  },
  {
   "cell_type": "code",
   "execution_count": 4,
   "metadata": {},
   "outputs": [
    {
     "name": "stdout",
     "output_type": "stream",
     "text": [
      "Model: \"sequential\"\n",
      "_________________________________________________________________\n",
      "Layer (type)                 Output Shape              Param #   \n",
      "=================================================================\n",
      "conv2d (Conv2D)              (None, 126, 126, 32)      896       \n",
      "_________________________________________________________________\n",
      "batch_normalization (BatchNo (None, 126, 126, 32)      128       \n",
      "_________________________________________________________________\n",
      "max_pooling2d (MaxPooling2D) (None, 63, 63, 32)        0         \n",
      "_________________________________________________________________\n",
      "conv2d_1 (Conv2D)            (None, 61, 61, 256)       73984     \n",
      "_________________________________________________________________\n",
      "batch_normalization_1 (Batch (None, 61, 61, 256)       1024      \n",
      "_________________________________________________________________\n",
      "max_pooling2d_1 (MaxPooling2 (None, 30, 30, 256)       0         \n",
      "_________________________________________________________________\n",
      "dropout (Dropout)            (None, 30, 30, 256)       0         \n",
      "_________________________________________________________________\n",
      "conv2d_2 (Conv2D)            (None, 28, 28, 128)       295040    \n",
      "_________________________________________________________________\n",
      "batch_normalization_2 (Batch (None, 28, 28, 128)       512       \n",
      "_________________________________________________________________\n",
      "max_pooling2d_2 (MaxPooling2 (None, 14, 14, 128)       0         \n",
      "_________________________________________________________________\n",
      "conv2d_3 (Conv2D)            (None, 12, 12, 64)        73792     \n",
      "_________________________________________________________________\n",
      "batch_normalization_3 (Batch (None, 12, 12, 64)        256       \n",
      "_________________________________________________________________\n",
      "max_pooling2d_3 (MaxPooling2 (None, 6, 6, 64)          0         \n",
      "_________________________________________________________________\n",
      "dropout_1 (Dropout)          (None, 6, 6, 64)          0         \n",
      "_________________________________________________________________\n",
      "conv2d_4 (Conv2D)            (None, 4, 4, 32)          18464     \n",
      "_________________________________________________________________\n",
      "batch_normalization_4 (Batch (None, 4, 4, 32)          128       \n",
      "_________________________________________________________________\n",
      "flatten (Flatten)            (None, 512)               0         \n",
      "_________________________________________________________________\n",
      "dense (Dense)                (None, 64)                32832     \n",
      "_________________________________________________________________\n",
      "dense_1 (Dense)              (None, 5)                 325       \n",
      "=================================================================\n",
      "Total params: 497,381\n",
      "Trainable params: 496,357\n",
      "Non-trainable params: 1,024\n",
      "_________________________________________________________________\n"
     ]
    }
   ],
   "source": [
    "from utils.neuralnets.kaggle_model import *\n",
    "\n",
    "model = create_model(lr = 1e-3)\n",
    "model.summary()"
   ]
  },
  {
   "cell_type": "code",
   "execution_count": 5,
   "metadata": {},
   "outputs": [],
   "source": [
    "\n",
    "bs = 64 #batch size\n",
    "epc = 25 #number of epoches\n",
    "eraly_stop = EarlyStopping(monitor='val_loss', min_delta=0.0001, patience=3, verbose=1, mode='auto')\n",
    "# Reducing the Learning Rate if result is not improving. \n",
    "reduce_lr = ReduceLROnPlateau(monitor='val_loss', min_delta=0.0004, patience=2, factor=0.1, min_lr=1e-6, mode='auto',\n",
    "                              verbose=1)\n",
    "train_datagen=ImageDataGenerator(preprocessing_function=preprocess_input) #included in our dependencies\n",
    "train_generator = train_datagen.flow(x_split_train, y_split_train, batch_size=bs)\n",
    "step_size_train=train_generator.n//train_generator.batch_size\n",
    "\n"
   ]
  },
  {
   "cell_type": "code",
   "execution_count": 6,
   "metadata": {},
   "outputs": [
    {
     "name": "stdout",
     "output_type": "stream",
     "text": [
      "Epoch 1/25\n",
      "211/211 [==============================] - 44s 91ms/step - loss: 1.2398 - accuracy: 0.5162 - val_loss: 0.6312 - val_accuracy: 0.7600\n",
      "Epoch 2/25\n",
      "211/211 [==============================] - 18s 83ms/step - loss: 0.6114 - accuracy: 0.7759 - val_loss: 0.4562 - val_accuracy: 0.8320\n",
      "Epoch 3/25\n",
      "211/211 [==============================] - 18s 84ms/step - loss: 0.4730 - accuracy: 0.8351 - val_loss: 0.3764 - val_accuracy: 0.8613\n",
      "Epoch 4/25\n",
      "211/211 [==============================] - 18s 84ms/step - loss: 0.4021 - accuracy: 0.8633 - val_loss: 0.3115 - val_accuracy: 0.8913\n",
      "Epoch 5/25\n",
      "211/211 [==============================] - 18s 84ms/step - loss: 0.3502 - accuracy: 0.8774 - val_loss: 0.2972 - val_accuracy: 0.8980\n",
      "Epoch 6/25\n",
      "211/211 [==============================] - 18s 84ms/step - loss: 0.3182 - accuracy: 0.8910 - val_loss: 0.2797 - val_accuracy: 0.9040\n",
      "Epoch 7/25\n",
      "211/211 [==============================] - 18s 84ms/step - loss: 0.3094 - accuracy: 0.8960 - val_loss: 0.2554 - val_accuracy: 0.9107\n",
      "Epoch 8/25\n",
      "211/211 [==============================] - 18s 84ms/step - loss: 0.2823 - accuracy: 0.9002 - val_loss: 0.2500 - val_accuracy: 0.9120\n",
      "Epoch 9/25\n",
      "211/211 [==============================] - 18s 84ms/step - loss: 0.2836 - accuracy: 0.9018 - val_loss: 0.2366 - val_accuracy: 0.9200\n",
      "Epoch 10/25\n",
      "211/211 [==============================] - 18s 84ms/step - loss: 0.2501 - accuracy: 0.9137 - val_loss: 0.2210 - val_accuracy: 0.9253\n",
      "Epoch 11/25\n",
      "211/211 [==============================] - 18s 84ms/step - loss: 0.2441 - accuracy: 0.9180 - val_loss: 0.2303 - val_accuracy: 0.9213\n",
      "Epoch 12/25\n",
      "211/211 [==============================] - 18s 84ms/step - loss: 0.2307 - accuracy: 0.9203 - val_loss: 0.2209 - val_accuracy: 0.9233\n",
      "\n",
      "Epoch 00012: ReduceLROnPlateau reducing learning rate to 0.00010000000474974513.\n",
      "Epoch 13/25\n",
      "211/211 [==============================] - 18s 84ms/step - loss: 0.2270 - accuracy: 0.9195 - val_loss: 0.2163 - val_accuracy: 0.9280\n",
      "Epoch 14/25\n",
      "211/211 [==============================] - 18s 84ms/step - loss: 0.2259 - accuracy: 0.9245 - val_loss: 0.2149 - val_accuracy: 0.9280\n",
      "Epoch 15/25\n",
      "211/211 [==============================] - 18s 84ms/step - loss: 0.2314 - accuracy: 0.9231 - val_loss: 0.2161 - val_accuracy: 0.9293\n",
      "Epoch 16/25\n",
      "211/211 [==============================] - 18s 84ms/step - loss: 0.2144 - accuracy: 0.9272 - val_loss: 0.2141 - val_accuracy: 0.9293\n",
      "Epoch 17/25\n",
      "211/211 [==============================] - 18s 84ms/step - loss: 0.2161 - accuracy: 0.9254 - val_loss: 0.2128 - val_accuracy: 0.9300\n",
      "Epoch 18/25\n",
      "211/211 [==============================] - 18s 84ms/step - loss: 0.2156 - accuracy: 0.9269 - val_loss: 0.2143 - val_accuracy: 0.9313\n",
      "Epoch 19/25\n",
      "211/211 [==============================] - 18s 84ms/step - loss: 0.2209 - accuracy: 0.9238 - val_loss: 0.2125 - val_accuracy: 0.9313\n",
      "\n",
      "Epoch 00019: ReduceLROnPlateau reducing learning rate to 1.0000000474974514e-05.\n",
      "Epoch 20/25\n",
      "211/211 [==============================] - 18s 84ms/step - loss: 0.2131 - accuracy: 0.9300 - val_loss: 0.2127 - val_accuracy: 0.9300\n",
      "Epoch 21/25\n",
      "211/211 [==============================] - 18s 84ms/step - loss: 0.2167 - accuracy: 0.9263 - val_loss: 0.2124 - val_accuracy: 0.9307\n",
      "Epoch 22/25\n",
      "211/211 [==============================] - 18s 84ms/step - loss: 0.2228 - accuracy: 0.9239 - val_loss: 0.2125 - val_accuracy: 0.9307\n",
      "Epoch 23/25\n",
      "211/211 [==============================] - 18s 84ms/step - loss: 0.2275 - accuracy: 0.9241 - val_loss: 0.2127 - val_accuracy: 0.9300\n",
      "\n",
      "Epoch 00023: ReduceLROnPlateau reducing learning rate to 1.0000000656873453e-06.\n",
      "Epoch 24/25\n",
      "211/211 [==============================] - 18s 84ms/step - loss: 0.2219 - accuracy: 0.9234 - val_loss: 0.2122 - val_accuracy: 0.9307\n",
      "Epoch 25/25\n",
      "211/211 [==============================] - 18s 84ms/step - loss: 0.2227 - accuracy: 0.9203 - val_loss: 0.2125 - val_accuracy: 0.9307\n",
      "\n",
      "Epoch 00025: ReduceLROnPlateau reducing learning rate to 1e-06.\n"
     ]
    }
   ],
   "source": [
    "history = model.fit(generator = train_generator,\n",
    "                    steps_per_epoch = step_size_train,\n",
    "                    epochs = epc,\n",
    "                    validation_data=(x_val, y_val),\n",
    "                    callbacks=[reduce_lr, eraly_stop]\n",
    "                   )\n",
    "# history = model.fit(x=x_split_train, \n",
    "#           y=y_split_train,\n",
    "#           batch_size=bs,\n",
    "#           epochs=epc, \n",
    "#           validation_data=(x_val, y_val), \n",
    "#           callbacks=[reduce_lr, eraly_stop])"
   ]
  },
  {
   "cell_type": "markdown",
   "metadata": {},
   "source": [
    "## Save your best model"
   ]
  },
  {
   "cell_type": "code",
   "execution_count": 7,
   "metadata": {},
   "outputs": [
    {
     "name": "stdout",
     "output_type": "stream",
     "text": [
      "INFO:tensorflow:Assets written to: ./model/kaggle/kaggle_model1/assets\n"
     ]
    }
   ],
   "source": [
    "# YOUR CODE HERE\n",
    "model.save(filepath = \"./model/kaggle/kaggle_model1\")\n"
   ]
  },
  {
   "cell_type": "markdown",
   "metadata": {},
   "source": [
    "## Generate .csv file for Kaggle\n",
    "\n",
    "The following code snippet can be used to generate your prediction .csv file.\n",
    "\n",
    "NOTE: If your kaggle results are indicating random performance, then it's likely that the indices of your csv predictions are misaligned."
   ]
  },
  {
   "cell_type": "code",
   "execution_count": null,
   "metadata": {},
   "outputs": [],
   "source": [
    "\n",
    "\n",
    "# import csv\n",
    "# with open('predicted.csv','w') as csvfile:\n",
    "#     fieldnames = ['Id','label']\n",
    "#     writer = csv.DictWriter(csvfile, fieldnames=fieldnames)\n",
    "#     writer.writeheader()\n",
    "#     for index,l in enumerate(predicted_values_generated_by_your_model):\n",
    "#         filename = str(index) + '.png'\n",
    "#         label = str(l)\n",
    "#         writer.writerow({'Id': filename, 'label': label})"
   ]
  }
 ],
 "metadata": {
  "kernelspec": {
   "display_name": "Python 3",
   "language": "python",
   "name": "python3"
  },
  "language_info": {
   "codemirror_mode": {
    "name": "ipython",
    "version": 3
   },
   "file_extension": ".py",
   "mimetype": "text/x-python",
   "name": "python",
   "nbconvert_exporter": "python",
   "pygments_lexer": "ipython3",
   "version": "3.6.9"
  }
 },
 "nbformat": 4,
 "nbformat_minor": 4
}
