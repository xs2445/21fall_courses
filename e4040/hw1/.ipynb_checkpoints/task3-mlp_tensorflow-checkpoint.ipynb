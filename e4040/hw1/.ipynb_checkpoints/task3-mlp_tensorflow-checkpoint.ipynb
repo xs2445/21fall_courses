{
 "cells": [
  {
   "cell_type": "markdown",
   "metadata": {},
   "source": [
    "## Columbia University\n",
    "### ECBM E4040 Neural Networks and Deep Learning. Fall 2021."
   ]
  },
  {
   "cell_type": "markdown",
   "metadata": {
    "colab_type": "text",
    "id": "Qe6yTh55trpQ"
   },
   "source": [
    "# Assignment 1, Task 3: Multilayer Perceptron (MLP)\n",
    "This is the third part of the assignment. You will get to implement MLP using tensorflow"
   ]
  },
  {
   "cell_type": "code",
   "execution_count": 1,
   "metadata": {
    "colab": {},
    "colab_type": "code",
    "id": "7Vs2WYIFtrpS",
    "tags": []
   },
   "outputs": [],
   "source": [
    "# Import modules\n",
    "from __future__ import print_function\n",
    "import tensorflow as tf\n",
    "import numpy as np\n",
    "import time\n",
    "import os\n",
    "import matplotlib.pyplot as plt\n",
    "import pickle\n",
    "\n",
    "from tensorflow.keras.datasets import fashion_mnist\n",
    "\n",
    "# Plot configurations\n",
    "%matplotlib inline\n",
    "\n",
    "# Notebook auto reloads code. (Ref: http://stackoverflow.com/questions/1907993/autoreload-of-modules-in-ipython)\n",
    "%load_ext autoreload\n",
    "%autoreload 2"
   ]
  },
  {
   "cell_type": "markdown",
   "metadata": {
    "colab_type": "text",
    "id": "3gYnTjputrpV"
   },
   "source": [
    "## Load Data"
   ]
  },
  {
   "cell_type": "code",
   "execution_count": 2,
   "metadata": {
    "colab": {
     "base_uri": "https://localhost:8080/",
     "height": 168
    },
    "colab_type": "code",
    "id": "I31uJ6KltrpW",
    "outputId": "1a677958-43ca-422c-ec66-38e8cdff4283",
    "tags": []
   },
   "outputs": [
    {
     "name": "stdout",
     "output_type": "stream",
     "text": [
      "(49000, 784) (1000, 784) (10000, 784) (100, 784)\n",
      "Train data shape:  (49000, 784)\n",
      "Train labels shape:  (49000,)\n",
      "Validation data shape:  (1000, 784)\n",
      "Validation labels shape:  (1000,)\n",
      "Test data shape:  (10000, 784)\n",
      "Test labels shape:  (10000,)\n",
      "Development data shape: (100, 784)\n",
      "Development data shape (100,)\n"
     ]
    }
   ],
   "source": [
    "# Load the raw Fashion-MNIST data.\n",
    "train, test = fashion_mnist.load_data()\n",
    "\n",
    "X_train_raw, y_train = train\n",
    "X_test_raw, y_test = test\n",
    "\n",
    "X_train = X_train_raw.reshape((X_train_raw.shape[0], X_train_raw.shape[1]**2))\n",
    "X_test = X_test_raw.reshape((X_test_raw.shape[0], X_test_raw.shape[1]**2))\n",
    "\n",
    "# Data organizations:\n",
    "# Train data: 49000 samples from original train set: 1~49,000\n",
    "# Validation data: 1000 samples from original train set: 49,000~50,000\n",
    "# Test data: 10000 samples from original test set: 1~10,000\n",
    "# Development data (for gradient check): 100 from the train set: 1~49,000\n",
    "num_training = 49000\n",
    "num_validation = 1000\n",
    "num_dev = 100\n",
    "\n",
    "X_val = X_train[-num_validation:, :]\n",
    "y_val = y_train[-num_validation:]\n",
    "\n",
    "mask = np.random.choice(num_training, num_dev, replace=False)\n",
    "X_dev = X_train[mask]\n",
    "y_dev = y_train[mask]\n",
    "\n",
    "X_train = X_train[:num_training, :]\n",
    "y_train = y_train[:num_training]\n",
    "\n",
    "# Preprocessing: subtract the mean value across every dimension for training data\n",
    "mean_image = np.mean(X_train, axis=0)\n",
    "\n",
    "X_train = X_train.astype(np.float32) - mean_image.astype(np.float32)\n",
    "X_val = X_val.astype(np.float32) - mean_image\n",
    "X_test = X_test.astype(np.float32) - mean_image\n",
    "X_dev = X_dev.astype(np.float32) - mean_image\n",
    "\n",
    "print(X_train.shape, X_val.shape, X_test.shape, X_dev.shape)\n",
    "print('Train data shape: ', X_train.shape)\n",
    "print('Train labels shape: ', y_train.shape)\n",
    "print('Validation data shape: ', X_val.shape)\n",
    "print('Validation labels shape: ', y_val.shape)\n",
    "print('Test data shape: ', X_test.shape)\n",
    "print('Test labels shape: ', y_test.shape)\n",
    "print('Development data shape:', X_dev.shape)\n",
    "print('Development data shape', y_dev.shape)"
   ]
  },
  {
   "cell_type": "markdown",
   "metadata": {
    "colab_type": "text",
    "id": "xa_w8ZHbtrqY"
   },
   "source": [
    "## Part 1: Tensorflow MLP\n",
    "In this part, you will use tensorflow modules to implement a MLP. We provide a demo of a two-layer net, of which style is referred to https://www.tensorflow.org/guide/keras, and https://www.tensorflow.org/guide/eager. \n",
    "\n",
    "You need to implement a multi-layer with 3 layers in a similar style."
   ]
  },
  {
   "cell_type": "markdown",
   "metadata": {},
   "source": [
    "### Demo: Two-layer MLP in Tensorflow"
   ]
  },
  {
   "cell_type": "code",
   "execution_count": 3,
   "metadata": {
    "colab": {
     "base_uri": "https://localhost:8080/",
     "height": 202
    },
    "colab_type": "code",
    "id": "-0xQOzpdtrqZ",
    "outputId": "212defc2-2cd6-406f-affe-9c6c7367e87f",
    "tags": []
   },
   "outputs": [
    {
     "name": "stdout",
     "output_type": "stream",
     "text": [
      "epoch 1: valid acc = 0.75\n",
      "epoch 2: valid acc = 0.7820000052452087\n",
      "epoch 3: valid acc = 0.8119999766349792\n",
      "epoch 4: valid acc = 0.8330000042915344\n",
      "epoch 5: valid acc = 0.8389999866485596\n",
      "epoch 6: valid acc = 0.8510000109672546\n",
      "epoch 7: valid acc = 0.859000027179718\n",
      "epoch 8: valid acc = 0.8619999885559082\n",
      "epoch 9: valid acc = 0.8659999966621399\n",
      "epoch 10: valid acc = 0.8709999918937683\n",
      "epoch 11: valid acc = 0.871999979019165\n",
      "epoch 12: valid acc = 0.871999979019165\n",
      "test acc = 0.8568000197410583\n"
     ]
    }
   ],
   "source": [
    "## Demo: Two-layer net in tensorflow (eager execution mode)\n",
    "hidden_dim = 300\n",
    "reg_tf = tf.constant(0.01)\n",
    "\n",
    "# define a tf.keras.Model class\n",
    "class Model(tf.keras.Model):\n",
    "    def __init__(self):\n",
    "        super(Model, self).__init__()\n",
    "        self.W1 = tf.Variable(1e-2*np.random.rand(X_train.shape[1], hidden_dim).astype('float32'))\n",
    "        self.b1 = tf.Variable(np.zeros((hidden_dim,)).astype('float32'))\n",
    "        self.W2 = tf.Variable(1e-2*np.random.rand(hidden_dim, 20).astype('float32'))\n",
    "        self.b2 = tf.Variable(np.zeros((20,)).astype('float32'))\n",
    "    def call(self, inputs):\n",
    "        \"\"\"Run the model.\"\"\"\n",
    "        h1 = tf.nn.relu(tf.matmul(inputs, self.W1) + self.b1)\n",
    "        out = tf.matmul(h1, self.W2) + self.b2\n",
    "        return out\n",
    "\n",
    "# Define and calculate loss function (Note that in eager execution, loss must be in a function)\n",
    "def loss(model, inputs, targets, reg = tf.constant(0.01)):\n",
    "    out = model(inputs)\n",
    "    cross_entropy = tf.nn.softmax_cross_entropy_with_logits(logits= out, labels=tf.one_hot(targets,20))\n",
    "    L2_loss = tf.nn.l2_loss(model.W1) + tf.nn.l2_loss(model.W2)\n",
    "    return tf.reduce_mean(cross_entropy) + reg * L2_loss\n",
    "\n",
    "# calculate gradients for all variables using tf.GradientTape\n",
    "def grad(model, inputs, targets, reg = tf.constant(0.01)):\n",
    "    with tf.GradientTape() as tape:\n",
    "        loss_value = loss(model, inputs, targets, reg=reg)\n",
    "    return tape.gradient(loss_value, [model.W1, model.b1, model.W2, model.b2])\n",
    "\n",
    "# calculate classification accuracy\n",
    "def eval_acc(model, inputs, targets):\n",
    "    correct_prediction = tf.equal(targets, tf.cast(tf.argmax(model(inputs),1), tf.uint8))\n",
    "    accuracy = tf.reduce_mean(tf.cast(correct_prediction, tf.float32))\n",
    "    return accuracy\n",
    "\n",
    "num_train = 49000\n",
    "batch_size = 500\n",
    "num_batch = num_train//batch_size\n",
    "num_epochs = 12\n",
    "model = Model()\n",
    "optimizer = tf.keras.optimizers.SGD(learning_rate=1e-3)\n",
    "\n",
    "for e in range(num_epochs):\n",
    "    for i in range(num_batch):\n",
    "        batch_xs, batch_ys = X_train[i*batch_size:(i+1)*batch_size], y_train[i*batch_size:(i+1)*batch_size]\n",
    "        x_tf = tf.Variable(batch_xs, dtype = tf.float32)\n",
    "        y_tf = tf.Variable(batch_ys, dtype = tf.uint8)\n",
    "        \n",
    "        grads = grad(model, x_tf, y_tf, reg_tf)\n",
    "        #optimization based on calculated gradients \n",
    "        optimizer.apply_gradients(zip(grads, [model.W1, model.b1, model.W2, model.b2]))\n",
    "\n",
    "    x_tf = tf.Variable(X_val, dtype = tf.float32)\n",
    "    y_tf = tf.Variable(y_val, dtype = tf.uint8)\n",
    "    accuracy = eval_acc(model, x_tf, y_tf)\n",
    "    val_acc = accuracy.numpy()\n",
    "    print('epoch {}: valid acc = {}'.format(e+1, val_acc))\n",
    "\n",
    "x_tf = tf.Variable(X_test, dtype = tf.float32)\n",
    "y_tf = tf.Variable(y_test, dtype = tf.uint8)\n",
    "accuracy = eval_acc(model, x_tf, y_tf)\n",
    "test_acc = accuracy.numpy()\n",
    "print('test acc = {}'.format(test_acc))"
   ]
  },
  {
   "cell_type": "markdown",
   "metadata": {},
   "source": [
    "### Create Deeper Network"
   ]
  },
  {
   "cell_type": "markdown",
   "metadata": {
    "colab_type": "text",
    "id": "YmSduBmytrqb"
   },
   "source": [
    "<span style=\"color:red\"><strong>TODO</strong></span>: Create your MLP in tensorflow. Since you are going to create a deeper neural network, it is recommended to use \"list\" to store your network parameters (weights and bias). Consider using a loop to create your MLP network. Hint: Copy the above code and make necessary changes in model definition."
   ]
  },
  {
   "cell_type": "markdown",
   "metadata": {
    "colab_type": "text",
    "id": "G-IVbxrEtrqd"
   },
   "source": [
    "<span style=\"color:red\"><strong>Solution</strong></span>:"
   ]
  },
  {
   "cell_type": "code",
   "execution_count": 4,
   "metadata": {
    "colab": {
     "base_uri": "https://localhost:8080/",
     "height": 202
    },
    "colab_type": "code",
    "id": "vtvnD-0Ptrqe",
    "outputId": "36115ca9-50dd-459d-f7f4-5b62cddd2577",
    "tags": []
   },
   "outputs": [],
   "source": [
    "# define the deep network\n",
    "class DeepModel(tf.keras.Model):\n",
    "    def __init__(self, input_dim=784, hidden_dims=[200,200], num_classes=10, reg=1e-2, weight_scale=1e-3):\n",
    "        super(DeepModel, self).__init__()\n",
    "        self.input_dim = input_dim\n",
    "        self.hidden_dims = hidden_dims\n",
    "        self.num_classes = num_classes\n",
    "        self.weight_scale = weight_scale\n",
    "        self.reg = tf.constant(reg)\n",
    "        # the number of layers\n",
    "        self.num_layers = len(hidden_dims)+1\n",
    "        # The structure of the model :\n",
    "        # input -> affine + Relu -> ... -> affine + Relu -> affine + softmax\n",
    "        # There are num_layers-1 affine + Relu and 1 affine + softmax\n",
    "        self.params = None\n",
    "        self.initialization()\n",
    "        \n",
    "    def initialization(self):\n",
    "        if self.params == None:\n",
    "            dims = [self.input_dim] + self.hidden_dims + [self.num_classes]\n",
    "            params = []\n",
    "            print('The structure is: {}'.format(dims))\n",
    "            # affine + Relu\n",
    "            for i in range(len(dims)-1):\n",
    "                params.append(tf.Variable(self.weight_scale*np.random.rand(dims[i],dims[i+1]).astype('float32')))\n",
    "                params.append(tf.Variable(np.zeros((dims[i+1],)).astype('float32')))\n",
    "            self.params = params\n",
    "     \n",
    "    def forward(self, inputs):\n",
    "        params = self.params\n",
    "        temp_out = inputs\n",
    "        for i in range(self.num_layers):\n",
    "            temp_out = tf.nn.relu(tf.matmul(temp_out, params[2*i])+params[2*i+1])\n",
    "        out = temp_out\n",
    "        return temp_out\n",
    "\n",
    "    def loss(self, inputs, targets):\n",
    "        out = self.forward(inputs)\n",
    "        cross_entropy = tf.nn.softmax_cross_entropy_with_logits(logits=out, labels=tf.one_hot(targets,self.num_classes))\n",
    "        l2_loss = tf.constant(0.0)\n",
    "        for i in range(self.num_layers):\n",
    "            l2_loss += tf.nn.l2_loss(self.params[2*i])\n",
    "        return tf.reduce_mean(cross_entropy) + self.reg * l2_loss\n",
    "            \n",
    "    def grad(self, inputs, targets):\n",
    "        with tf.GradientTape() as tape:\n",
    "            loss_value = self.loss(inputs, targets)\n",
    "        return tape.gradient(loss_value, self.params)\n",
    "            \n",
    "    def eval_acc(self, inputs, targets):\n",
    "        correct_prediction = tf.equal(targets, tf.cast(tf.argmax(self.forward(inputs),1), tf.uint8))\n",
    "        accuracy = tf.reduce_mean(tf.cast(correct_prediction, tf.float32))\n",
    "        return accuracy\n",
    "    \n",
    "    def train(self, inputs, targets, \n",
    "              inputs_val, targets_val, \n",
    "              inputs_test, targets_test, \n",
    "              batch_size=1000, num_epochs=12, learning_rate=1e-3):\n",
    "        num_train = inputs.shape[0]\n",
    "        num_batch = num_train//batch_size+1\n",
    "        optimizer = tf.keras.optimizers.SGD(learning_rate=learning_rate)\n",
    "        \n",
    "        for e in range(num_epochs):\n",
    "            for i in range(num_batch):\n",
    "                batch_xs, batch_ys = inputs[i*batch_size:(i+1)*batch_size], targets[i*batch_size:(i+1)*batch_size]\n",
    "                x_tf = tf.Variable(batch_xs, dtype = tf.float32)\n",
    "                y_tf = tf.Variable(batch_ys, dtype = tf.uint8)\n",
    "                \n",
    "                grads = self.grad(x_tf, y_tf)\n",
    "                optimizer.apply_gradients(zip(grads, self.params))\n",
    "            \n",
    "            x_tf = tf.Variable(inputs_val, dtype = tf.float32)\n",
    "            y_tf = tf.Variable(targets_val, dtype = tf.uint8)\n",
    "            accuracy = self.eval_acc(x_tf, y_tf)\n",
    "            val_acc = accuracy.numpy()\n",
    "            print('epoch {}: valid acc = {}'.format(e+1, val_acc))\n",
    "        \n",
    "        x_tf = tf.Variable(inputs_test, dtype = tf.float32)\n",
    "        y_tf = tf.Variable(targets_test, dtype = tf.uint8)\n",
    "        accuracy = self.eval_acc(x_tf, y_tf)\n",
    "        test_acc = accuracy.numpy()\n",
    "        print('test acc = {}'.format(test_acc))\n",
    "    "
   ]
  },
  {
   "cell_type": "code",
   "execution_count": 15,
   "metadata": {},
   "outputs": [
    {
     "name": "stdout",
     "output_type": "stream",
     "text": [
      "The structure is: [784, 300, 300, 20]\n",
      "epoch 1: valid acc = 0.13600000739097595\n",
      "epoch 2: valid acc = 0.13899999856948853\n",
      "epoch 3: valid acc = 0.13699999451637268\n",
      "epoch 4: valid acc = 0.13899999856948853\n",
      "epoch 5: valid acc = 0.14000000059604645\n",
      "epoch 6: valid acc = 0.14300000667572021\n",
      "epoch 7: valid acc = 0.1379999965429306\n",
      "epoch 8: valid acc = 0.14000000059604645\n",
      "epoch 9: valid acc = 0.1379999965429306\n",
      "epoch 10: valid acc = 0.14000000059604645\n",
      "epoch 11: valid acc = 0.15199999511241913\n",
      "epoch 12: valid acc = 0.20900000631809235\n",
      "test acc = 0.19359999895095825\n"
     ]
    }
   ],
   "source": [
    "deepmodel = DeepModel(input_dim=X_train.shape[1], hidden_dims=[300,300], num_classes=20)\n",
    "deepmodel.train(X_train, y_train, X_val, y_val, X_test, y_test)"
   ]
  },
  {
   "cell_type": "markdown",
   "metadata": {},
   "source": [
    "### Introduction to TensorFlow.keras\n",
    "\n",
    "As you can see, when the network structure becomes larger, it is hard to handle variables from every layer. Here we introduce the `tf.keras` tool to build the network in a much simpler way. You may want to use it in your project."
   ]
  },
  {
   "cell_type": "markdown",
   "metadata": {},
   "source": [
    "<span style=\"color:red\"><strong>TODO</strong></span>: Follow this official example: https://www.tensorflow.org/datasets/keras_example#step_2_create_and_train_the_model to build an MLP and train it. \n",
    "\n",
    "*You should keep the same optimizer (SGD) and loss function (cross entropy) as in the previous task.*\n",
    "\n",
    "**Note:** Since we want to use our own dataset, we will not use the `tfds.load` method to load the data this time. \n",
    "\n",
    "You need to check the usage of [`model.fit()`](https://www.tensorflow.org/api_docs/python/tf/keras/Model#fit) and feed the model with our own data.\n",
    "\n",
    "**Tips:**\n",
    "* Softmax is also registered as a layer operation in tf.keras.\n",
    "* You can use `model.summary()` to visualize the model after you build it.\n",
    "* Use `verbose=2` in `model.fit()` to get similar training logs"
   ]
  },
  {
   "cell_type": "markdown",
   "metadata": {},
   "source": [
    "<span style=\"color:red\"><strong>SOLUTION</strong></span>:"
   ]
  },
  {
   "cell_type": "code",
   "execution_count": 34,
   "metadata": {
    "scrolled": true
   },
   "outputs": [
    {
     "name": "stdout",
     "output_type": "stream",
     "text": [
      "Epoch 1/50\n",
      "10/10 [==============================] - 1s 66ms/step - loss: 22.9132 - sparse_categorical_accuracy: 0.3899\n",
      "Epoch 2/50\n",
      "10/10 [==============================] - 1s 68ms/step - loss: 2.5128 - sparse_categorical_accuracy: 0.4369\n",
      "Epoch 3/50\n",
      "10/10 [==============================] - 1s 68ms/step - loss: 2.1694 - sparse_categorical_accuracy: 0.4416\n",
      "Epoch 4/50\n",
      "10/10 [==============================] - 1s 66ms/step - loss: 2.0517 - sparse_categorical_accuracy: 0.4599\n",
      "Epoch 5/50\n",
      "10/10 [==============================] - 1s 66ms/step - loss: 1.9742 - sparse_categorical_accuracy: 0.4728\n",
      "Epoch 6/50\n",
      "10/10 [==============================] - 1s 65ms/step - loss: 1.9122 - sparse_categorical_accuracy: 0.4797\n",
      "Epoch 7/50\n",
      "10/10 [==============================] - 1s 66ms/step - loss: 1.8610 - sparse_categorical_accuracy: 0.4886\n",
      "Epoch 8/50\n",
      "10/10 [==============================] - 1s 66ms/step - loss: 1.8206 - sparse_categorical_accuracy: 0.4933\n",
      "Epoch 9/50\n",
      "10/10 [==============================] - 1s 66ms/step - loss: 1.7835 - sparse_categorical_accuracy: 0.4985\n",
      "Epoch 10/50\n",
      "10/10 [==============================] - 1s 67ms/step - loss: 1.7565 - sparse_categorical_accuracy: 0.5059\n",
      "Epoch 11/50\n",
      "10/10 [==============================] - 1s 66ms/step - loss: 1.7286 - sparse_categorical_accuracy: 0.5077\n",
      "Epoch 12/50\n",
      "10/10 [==============================] - 1s 65ms/step - loss: 1.7028 - sparse_categorical_accuracy: 0.5123\n",
      "Epoch 13/50\n",
      "10/10 [==============================] - 1s 67ms/step - loss: 1.6848 - sparse_categorical_accuracy: 0.5148\n",
      "Epoch 14/50\n",
      "10/10 [==============================] - 1s 74ms/step - loss: 1.6644 - sparse_categorical_accuracy: 0.5181\n",
      "Epoch 15/50\n",
      "10/10 [==============================] - 1s 71ms/step - loss: 1.6482 - sparse_categorical_accuracy: 0.5198\n",
      "Epoch 16/50\n",
      "10/10 [==============================] - 1s 67ms/step - loss: 1.6304 - sparse_categorical_accuracy: 0.5224\n",
      "Epoch 17/50\n",
      "10/10 [==============================] - 1s 67ms/step - loss: 1.6245 - sparse_categorical_accuracy: 0.5245\n",
      "Epoch 18/50\n",
      "10/10 [==============================] - 1s 66ms/step - loss: 1.6051 - sparse_categorical_accuracy: 0.5252\n",
      "Epoch 19/50\n",
      "10/10 [==============================] - 1s 66ms/step - loss: 1.5904 - sparse_categorical_accuracy: 0.5270\n",
      "Epoch 20/50\n",
      "10/10 [==============================] - 1s 68ms/step - loss: 1.5785 - sparse_categorical_accuracy: 0.5287\n",
      "Epoch 21/50\n",
      "10/10 [==============================] - 1s 68ms/step - loss: 1.5663 - sparse_categorical_accuracy: 0.5306\n",
      "Epoch 22/50\n",
      "10/10 [==============================] - 1s 68ms/step - loss: 1.5549 - sparse_categorical_accuracy: 0.5323\n",
      "Epoch 23/50\n",
      "10/10 [==============================] - 1s 68ms/step - loss: 1.5474 - sparse_categorical_accuracy: 0.5336\n",
      "Epoch 24/50\n",
      "10/10 [==============================] - 1s 67ms/step - loss: 1.5358 - sparse_categorical_accuracy: 0.5352\n",
      "Epoch 25/50\n",
      "10/10 [==============================] - 1s 66ms/step - loss: 1.5270 - sparse_categorical_accuracy: 0.5380\n",
      "Epoch 26/50\n",
      "10/10 [==============================] - 1s 66ms/step - loss: 1.5190 - sparse_categorical_accuracy: 0.5391\n",
      "Epoch 27/50\n",
      "10/10 [==============================] - 1s 66ms/step - loss: 1.5121 - sparse_categorical_accuracy: 0.5417\n",
      "Epoch 28/50\n",
      "10/10 [==============================] - 1s 67ms/step - loss: 1.5055 - sparse_categorical_accuracy: 0.5431\n",
      "Epoch 29/50\n",
      "10/10 [==============================] - 1s 68ms/step - loss: 1.4946 - sparse_categorical_accuracy: 0.5446\n",
      "Epoch 30/50\n",
      "10/10 [==============================] - 1s 67ms/step - loss: 1.4906 - sparse_categorical_accuracy: 0.5456\n",
      "Epoch 31/50\n",
      "10/10 [==============================] - 1s 65ms/step - loss: 1.4875 - sparse_categorical_accuracy: 0.5473\n",
      "Epoch 32/50\n",
      "10/10 [==============================] - 1s 67ms/step - loss: 1.4783 - sparse_categorical_accuracy: 0.5484\n",
      "Epoch 33/50\n",
      "10/10 [==============================] - 1s 66ms/step - loss: 1.4723 - sparse_categorical_accuracy: 0.5498\n",
      "Epoch 34/50\n",
      "10/10 [==============================] - 1s 67ms/step - loss: 1.4666 - sparse_categorical_accuracy: 0.5511\n",
      "Epoch 35/50\n",
      "10/10 [==============================] - 1s 68ms/step - loss: 1.4626 - sparse_categorical_accuracy: 0.5533\n",
      "Epoch 36/50\n",
      "10/10 [==============================] - 1s 68ms/step - loss: 1.4544 - sparse_categorical_accuracy: 0.5537\n",
      "Epoch 37/50\n",
      "10/10 [==============================] - 1s 67ms/step - loss: 1.4511 - sparse_categorical_accuracy: 0.5550\n",
      "Epoch 38/50\n",
      "10/10 [==============================] - 1s 68ms/step - loss: 1.4453 - sparse_categorical_accuracy: 0.5563\n",
      "Epoch 39/50\n",
      "10/10 [==============================] - 1s 68ms/step - loss: 1.4422 - sparse_categorical_accuracy: 0.5577\n",
      "Epoch 40/50\n",
      "10/10 [==============================] - 1s 67ms/step - loss: 1.4379 - sparse_categorical_accuracy: 0.5588\n",
      "Epoch 41/50\n",
      "10/10 [==============================] - 1s 69ms/step - loss: 1.4325 - sparse_categorical_accuracy: 0.5602\n",
      "Epoch 42/50\n",
      "10/10 [==============================] - 1s 67ms/step - loss: 1.4285 - sparse_categorical_accuracy: 0.5624\n",
      "Epoch 43/50\n",
      "10/10 [==============================] - 1s 69ms/step - loss: 1.4210 - sparse_categorical_accuracy: 0.5646\n",
      "Epoch 44/50\n",
      "10/10 [==============================] - 1s 67ms/step - loss: 1.4146 - sparse_categorical_accuracy: 0.5673\n",
      "Epoch 45/50\n",
      "10/10 [==============================] - 1s 71ms/step - loss: 1.4094 - sparse_categorical_accuracy: 0.5691\n",
      "Epoch 46/50\n",
      "10/10 [==============================] - 1s 65ms/step - loss: 1.4000 - sparse_categorical_accuracy: 0.5713\n",
      "Epoch 47/50\n",
      "10/10 [==============================] - 1s 66ms/step - loss: 1.3939 - sparse_categorical_accuracy: 0.5727\n",
      "Epoch 48/50\n",
      "10/10 [==============================] - 1s 66ms/step - loss: 1.3913 - sparse_categorical_accuracy: 0.5736\n",
      "Epoch 49/50\n",
      "10/10 [==============================] - 1s 66ms/step - loss: 1.3854 - sparse_categorical_accuracy: 0.5739\n",
      "Epoch 50/50\n",
      "10/10 [==============================] - 1s 67ms/step - loss: 1.3826 - sparse_categorical_accuracy: 0.5742\n",
      "Model: \"sequential_20\"\n",
      "_________________________________________________________________\n",
      "Layer (type)                 Output Shape              Param #   \n",
      "=================================================================\n",
      "dense_64 (Dense)             (1000, 784)               615440    \n",
      "_________________________________________________________________\n",
      "dense_65 (Dense)             (1000, 300)               235500    \n",
      "_________________________________________________________________\n",
      "dense_66 (Dense)             (1000, 300)               90300     \n",
      "_________________________________________________________________\n",
      "dense_67 (Dense)             (1000, 20)                6020      \n",
      "=================================================================\n",
      "Total params: 947,260\n",
      "Trainable params: 947,260\n",
      "Non-trainable params: 0\n",
      "_________________________________________________________________\n"
     ]
    }
   ],
   "source": [
    "#############################################################\n",
    "# TODO: build the model with tf.keras.models.Sequential\n",
    "\n",
    "layers = []\n",
    "dims = [784,300,300,20]\n",
    "for i in range(len(dims)):\n",
    "    layers.append(tf.keras.layers.Dense(dims[i], activation='relu'))\n",
    "\n",
    "model = tf.keras.models.Sequential(layers)\n",
    "\n",
    "# END of your code\n",
    "#############################################################\n",
    "\n",
    "\n",
    "\n",
    "#############################################################\n",
    "# TODO: compile the model, set optimizer and loss\n",
    "\n",
    "model.compile(\n",
    "    optimizer = tf.keras.optimizers.SGD(learning_rate = 0.001),\n",
    "    loss = tf.keras.losses.SparseCategoricalCrossentropy(from_logits=True),\n",
    "    metrics = [tf.keras.metrics.SparseCategoricalAccuracy()],\n",
    ")\n",
    "\n",
    "\n",
    "# END of your code\n",
    "#############################################################\n",
    "\n",
    "\n",
    "\n",
    "#############################################################\n",
    "# TODO: train the model with our own dataset\n",
    "\n",
    "model.fit(X_test, y_test, epochs=50, batch_size=1000)\n",
    "\n",
    "model.summary()\n",
    "\n",
    "# END of your code\n",
    "#############################################################"
   ]
  },
  {
   "cell_type": "markdown",
   "metadata": {},
   "source": [
    "## Part 2: t-SNE (optional, bonus +5 points)\n",
    "\n",
    "t-SNE is is a machine learning algorithm for nonlinear dimensionality reduction developed by Geoffrey Hinton and Laurens van der Maaten. It is also a good way of visualizing high-dimensional data in 2D. We show its application for CIFAR100. Later it will be re-used in a CNN network. Experimenting with t-SNE can be fun. One thing to try is to visualize the output of each layer of MLP to observe the differences.\n",
    "\n",
    "<p style=\"line-height: 1.2;\">[1] Maaten, Laurens van der, and Geoffrey Hinton. \"Visualizing data using t-SNE.\" Journal of Machine Learning Research 9.Nov (2008): 2579-2605.</p>\n",
    "<p style=\"line-height: 1.2;\">[2] Adaptive learning rate scheme by Jacobs https://www.willamette.edu/~gorr/classes/cs449/Momentum/deltabardelta.html</p>\n",
    "<p style=\"line-height: 1.2;\">[3] http://cs.stanford.edu/people/karpathy/cnnembed/</p>\n",
    "<p style=\"line-height: 1.2;\">[4] How to Use t-SNE Effectively, with examples.\n",
    " https://distill.pub/2016/misread-tsne</p>"
   ]
  },
  {
   "cell_type": "code",
   "execution_count": 22,
   "metadata": {},
   "outputs": [],
   "source": [
    "from utils.train_funcs import train, test\n",
    "from utils.classifiers.mlp import MLP\n",
    "from utils.features.tsne import tsne"
   ]
  },
  {
   "cell_type": "code",
   "execution_count": 23,
   "metadata": {
    "tags": []
   },
   "outputs": [
    {
     "name": "stdout",
     "output_type": "stream",
     "text": [
      "(49000, 784) (1000, 784) (10000, 784) (100, 784)\n",
      "Train data shape:  (49000, 784)\n",
      "Train labels shape:  (49000,)\n",
      "Validation data shape:  (1000, 784)\n",
      "Validation labels shape:  (1000,)\n",
      "Test data shape:  (10000, 784)\n",
      "Test labels shape:  (10000,)\n",
      "Development data shape: (100, 784)\n",
      "Development data shape (100,)\n"
     ]
    }
   ],
   "source": [
    "# Load the raw Fashion-MNIST data.\n",
    "train_data, test_data = fashion_mnist.load_data()\n",
    "\n",
    "X_train_raw, y_train = train_data\n",
    "X_test_raw, y_test = test_data\n",
    "\n",
    "X_train = X_train_raw.reshape((X_train_raw.shape[0], X_train_raw.shape[1]**2))\n",
    "X_test = X_test_raw.reshape((X_test_raw.shape[0], X_test_raw.shape[1]**2))\n",
    "\n",
    "# Data organizations:\n",
    "# Train data: 49000 samples from original train set: 1~49,000\n",
    "# Validation data: 1000 samples from original train set: 49,000~50,000\n",
    "# Test data: 10000 samples from original test set: 1~10,000\n",
    "# Development data (for gradient check): 100 from the train set: 1~49,000\n",
    "num_training = 49000\n",
    "num_validation = 1000\n",
    "num_dev = 100\n",
    "\n",
    "X_val = X_train[-num_validation:, :]\n",
    "y_val = y_train[-num_validation:]\n",
    "\n",
    "mask = np.random.choice(num_training, num_dev, replace=False)\n",
    "X_dev = X_train[mask]\n",
    "y_dev = y_train[mask]\n",
    "\n",
    "X_train = X_train[:num_training, :]\n",
    "y_train = y_train[:num_training]\n",
    "\n",
    "# Preprocessing: subtract the mean value across every dimension for training data\n",
    "mean_image = np.mean(X_train, axis=0)\n",
    "\n",
    "X_train = X_train.astype(np.float32) - mean_image.astype(np.float32)\n",
    "X_val = X_val.astype(np.float32) - mean_image\n",
    "X_test = X_test.astype(np.float32) - mean_image\n",
    "X_dev = X_dev.astype(np.float32) - mean_image\n",
    "\n",
    "print(X_train.shape, X_val.shape, X_test.shape, X_dev.shape)\n",
    "print('Train data shape: ', X_train.shape)\n",
    "print('Train labels shape: ', y_train.shape)\n",
    "print('Validation data shape: ', X_val.shape)\n",
    "print('Validation labels shape: ', y_val.shape)\n",
    "print('Test data shape: ', X_test.shape)\n",
    "print('Test labels shape: ', y_test.shape)\n",
    "print('Development data shape:', X_dev.shape)\n",
    "print('Development data shape', y_dev.shape)"
   ]
  },
  {
   "cell_type": "markdown",
   "metadata": {},
   "source": [
    "#### tSNE of original data"
   ]
  },
  {
   "cell_type": "code",
   "execution_count": 24,
   "metadata": {
    "tags": []
   },
   "outputs": [
    {
     "name": "stdout",
     "output_type": "stream",
     "text": [
      "2.943242807718906\n",
      "The 100 th loop cost: 11.534281324803645, computation time: 1.6002247333526611\n",
      "The 200 th loop cost: 0.528435397501861, computation time: 3.2075207233428955\n",
      "The 300 th loop cost: 0.5015052339811525, computation time: 4.8644678592681885\n",
      "The 400 th loop cost: 0.4975609401987026, computation time: 6.530449151992798\n",
      "The 500 th loop cost: 0.49685372054237703, computation time: 8.168463468551636\n",
      "The 600 th loop cost: 0.4966391147688024, computation time: 9.791987657546997\n",
      "The 700 th loop cost: 0.49655947425782027, computation time: 11.402148962020874\n",
      "The 800 th loop cost: 0.49652634921135397, computation time: 13.007970571517944\n",
      "The 900 th loop cost: 0.4965118464698301, computation time: 14.606977224349976\n",
      "The 1000 th loop cost: 0.4965052819193243, computation time: 16.22364068031311\n",
      "it takes 16.86872363090515 seconds\n"
     ]
    }
   ],
   "source": [
    "random_select = np.random.choice(10000, 500, replace=False)\n",
    "X = X_test_raw[random_select,:,:].reshape(500,X_train.shape[1]).astype('float')/255.0\n",
    "tic = time.time()\n",
    "Y = tsne(X, low_dim=2, perplexity=30.0)\n",
    "print(\"it takes {} seconds\".format(time.time()-tic))"
   ]
  },
  {
   "cell_type": "code",
   "execution_count": 25,
   "metadata": {},
   "outputs": [
    {
     "data": {
      "image/png": "[encoded data removed]",
      "text/plain": [
       "<Figure size 432x288 with 1 Axes>"
      ]
     },
     "metadata": {
      "needs_background": "light"
     },
     "output_type": "display_data"
    }
   ],
   "source": [
    "## visualize tSNE of original data\n",
    "labels = y_test[random_select]\n",
    "colors = np.random.rand(20,3)\n",
    "color_labels = [colors[int(i)] for i in labels.tolist()]\n",
    "plt.scatter(Y[:,0], Y[:,1], 20, color_labels)\n",
    "plt.show()"
   ]
  },
  {
   "cell_type": "markdown",
   "metadata": {},
   "source": [
    "#### tSNE of data after two hidden layers\n",
    "\n",
    "Do visualization of the tSNE of data after going through MLP. In the visualization result, you should find that in comparison with the tSNE of original data where all data points mess up with each other, tSNE of data after two-layer networks would be shown as multiple clusters in a 2D panel."
   ]
  },
  {
   "cell_type": "code",
   "execution_count": 40,
   "metadata": {
    "tags": []
   },
   "outputs": [
    {
     "name": "stdout",
     "output_type": "stream",
     "text": [
      "number of batches for training: 245\n",
      "epoch 1: valid acc = 0.811, new learning rate = 0.00095\n",
      "epoch 2: valid acc = 0.828, new learning rate = 0.0009025\n",
      "epoch 3: valid acc = 0.848, new learning rate = 0.000857375\n",
      "epoch 4: valid acc = 0.868, new learning rate = 0.0008145062499999999\n",
      "epoch 5: valid acc = 0.867, new learning rate = 0.0007737809374999998\n",
      "epoch 6: valid acc = 0.852, new learning rate = 0.0007350918906249997\n",
      "epoch 7: valid acc = 0.864, new learning rate = 0.0006983372960937497\n",
      "epoch 8: valid acc = 0.852, new learning rate = 0.0006634204312890621\n",
      "epoch 9: valid acc = 0.862, new learning rate = 0.000630249409724609\n",
      "epoch 10: valid acc = 0.874, new learning rate = 0.0005987369392383785\n",
      "test acc: 0.8453\n"
     ]
    },
    {
     "data": {
      "text/plain": [
       "0.8453"
      ]
     },
     "execution_count": 40,
     "metadata": {},
     "output_type": "execute_result"
    }
   ],
   "source": [
    "# Define MLP model\n",
    "model = MLP(input_dim=X_train.shape[1], hidden_dims=[100], num_classes=20, reg=0.1, weight_scale=1e-3)\n",
    "\n",
    "num_epoch = 10\n",
    "batch_size = 200\n",
    "lr = 1e-3\n",
    "verbose = False\n",
    "train_acc_hist, val_acc_hist = train(model, X_train, y_train, X_val, y_val, \n",
    "                  num_epoch=num_epoch, batch_size=batch_size, learning_rate=lr, verbose=verbose)\n",
    "test(model, X_test, y_test)"
   ]
  },
  {
   "cell_type": "markdown",
   "metadata": {},
   "source": [
    "<span style=\"color:red\"><strong>TODO</strong></span>: Visualize data that is passed through MLP model defined above using tSNE. "
   ]
  },
  {
   "cell_type": "code",
   "execution_count": 47,
   "metadata": {
    "tags": []
   },
   "outputs": [
    {
     "name": "stdout",
     "output_type": "stream",
     "text": [
      "0.13253123038058967\n",
      "The 100 th loop cost: 8.364681495665439, computation time: 1.587406873703003\n",
      "The 200 th loop cost: 0.22966845347916098, computation time: 3.222799301147461\n",
      "The 300 th loop cost: 0.19821011556092455, computation time: 4.802780389785767\n",
      "The 400 th loop cost: 0.1890575568454759, computation time: 6.3736560344696045\n",
      "The 500 th loop cost: 0.18560291004869348, computation time: 7.964428901672363\n",
      "The 600 th loop cost: 0.18369868948129603, computation time: 9.548354864120483\n",
      "The 700 th loop cost: 0.18247668947632686, computation time: 11.148273229598999\n",
      "The 800 th loop cost: 0.18159561711808053, computation time: 12.754067659378052\n",
      "The 900 th loop cost: 0.18091388546857054, computation time: 14.412728071212769\n",
      "The 1000 th loop cost: 0.18037555056963867, computation time: 16.04745316505432\n",
      "it takes 16.755699157714844 seconds\n"
     ]
    }
   ],
   "source": [
    "# run tSNE\n",
    "X = X_test[random_select]\n",
    "tic = time.time()\n",
    "\n",
    "#############################################################################\n",
    "#                          START OF YOUR CODE                               #\n",
    "# Hint: Pass data through affine and dense layers (model.layers) and then \n",
    "# apply softmax to obtain output of the MLP model.\n",
    "#############################################################################\n",
    "\n",
    "from utils.layer_funcs import softmax\n",
    "\n",
    "temp_x = X\n",
    "for i in range(len(model.layers)):\n",
    "    temp_x = model.layers[i].feedforward(temp_x)\n",
    "probabilities = softmax(temp_x)\n",
    "\n",
    "Y_prob = tsne(probabilities, low_dim=2, perplexity=30.0)\n",
    "\n",
    "#############################################################################\n",
    "#                          END OF YOUR CODE                                 #\n",
    "#############################################################################\n",
    "\n",
    "print(\"it takes {} seconds\".format(time.time()-tic))"
   ]
  },
  {
   "cell_type": "code",
   "execution_count": 48,
   "metadata": {},
   "outputs": [
    {
     "data": {
      "image/png": "[encoded data removed]",
      "text/plain": [
       "<Figure size 432x288 with 1 Axes>"
      ]
     },
     "metadata": {
      "needs_background": "light"
     },
     "output_type": "display_data"
    }
   ],
   "source": [
    "# visualize tSNE 2D representation of data after two hidden layers\n",
    "#############################################################################\n",
    "#                          START OF YOUR CODE                               #\n",
    "# Hint: See tSNE visualization of original data\n",
    "#############################################################################\n",
    "\n",
    "labels = y_test[random_select]\n",
    "colors = np.random.rand(20,3)\n",
    "color_labels = [colors[int(i)] for i in labels.tolist()]\n",
    "plt.scatter(Y_prob[:,0], Y_prob[:,1], 20, color_labels)\n",
    "plt.title('Visualizing tSNE 2D after MLP')\n",
    "plt.show()\n",
    "\n",
    "#############################################################################\n",
    "#                          END OF YOUR CODE                                 #\n",
    "#############################################################################"
   ]
  },
  {
   "cell_type": "markdown",
   "metadata": {},
   "source": [
    "<span style=\"color:red\"><strong>TODO</strong></span>: Try tuning the parameters of tSNE, do visualization of the new tSNE of data."
   ]
  },
  {
   "cell_type": "code",
   "execution_count": 51,
   "metadata": {},
   "outputs": [
    {
     "name": "stdout",
     "output_type": "stream",
     "text": [
      "0.044714070719702466\n",
      "The 100 th loop cost: 12.471349098506085, computation time: 1.5646822452545166\n",
      "The 200 th loop cost: 0.6698702081368615, computation time: 3.1199727058410645\n",
      "The 300 th loop cost: 0.4549689403817834, computation time: 4.682247877120972\n",
      "The 400 th loop cost: 0.3737393039198167, computation time: 6.254424571990967\n",
      "The 500 th loop cost: 0.3427409465078965, computation time: 7.860611438751221\n",
      "The 600 th loop cost: 0.3262208043385801, computation time: 9.433842897415161\n",
      "The 700 th loop cost: 0.31587464859492576, computation time: 11.031691789627075\n",
      "The 800 th loop cost: 0.3087359062469146, computation time: 12.639424085617065\n",
      "The 900 th loop cost: 0.3034285080430151, computation time: 14.223039150238037\n",
      "The 1000 th loop cost: 0.29932273710930046, computation time: 15.80528450012207\n",
      "it takes 137.8869490623474 seconds\n"
     ]
    }
   ],
   "source": [
    "# Tune the parameter, show the results.\n",
    "# run tSNE\n",
    "X = X_test[random_select]\n",
    "\n",
    "#############################################################################\n",
    "#                          START OF YOUR CODE                               #\n",
    "#############################################################################\n",
    "\n",
    "Y_prob = tsne(probabilities, low_dim=2, perplexity=5.0)\n",
    "\n",
    "#############################################################################\n",
    "#                          END OF YOUR CODE                                 #\n",
    "#############################################################################\n",
    "\n",
    "print(\"it takes {} seconds\".format(time.time()-tic))"
   ]
  },
  {
   "cell_type": "code",
   "execution_count": 52,
   "metadata": {},
   "outputs": [
    {
     "data": {
      "image/png": "[encoded data removed]",
      "text/plain": [
       "<Figure size 432x288 with 1 Axes>"
      ]
     },
     "metadata": {
      "needs_background": "light"
     },
     "output_type": "display_data"
    }
   ],
   "source": [
    "# visualize tSNE 2D representation of data after two hidden layers\n",
    "#############################################################################\n",
    "#                          START OF YOUR CODE                               #\n",
    "#############################################################################\n",
    "\n",
    "labels = y_test[random_select]\n",
    "colors = np.random.rand(20,3)\n",
    "color_labels = [colors[int(i)] for i in labels.tolist()]\n",
    "plt.scatter(Y_prob[:,0], Y_prob[:,1], 20, color_labels)\n",
    "plt.title('Visualizing tSNE 2D after MLP')\n",
    "plt.show()\n",
    "\n",
    "\n",
    "#############################################################################\n",
    "#                          END OF YOUR CODE                                 #\n",
    "#############################################################################"
   ]
  }
 ],
 "metadata": {
  "colab": {
   "name": "task2-mlp_eager.ipynb",
   "provenance": [],
   "toc_visible": true,
   "version": "0.3.2"
  },
  "kernelspec": {
   "display_name": "Python 3",
   "language": "python",
   "name": "python3"
  },
  "language_info": {
   "codemirror_mode": {
    "name": "ipython",
    "version": 3
   },
   "file_extension": ".py",
   "mimetype": "text/x-python",
   "name": "python",
   "nbconvert_exporter": "python",
   "pygments_lexer": "ipython3",
   "version": "3.6.9"
  }
 },
 "nbformat": 4,
 "nbformat_minor": 4
}
