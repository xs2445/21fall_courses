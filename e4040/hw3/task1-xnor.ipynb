{
 "cells": [
  {
   "cell_type": "markdown",
   "metadata": {},
   "source": [
    "## Columbia University\n",
    "### ECBM E4040 Neural Networks and Deep Learning. Fall 2021."
   ]
  },
  {
   "cell_type": "markdown",
   "metadata": {},
   "source": [
    "# Task 1: XNOR"
   ]
  },
  {
   "cell_type": "code",
   "execution_count": 2,
   "metadata": {},
   "outputs": [
    {
     "name": "stdout",
     "output_type": "stream",
     "text": [
      "2.4.0\n"
     ]
    }
   ],
   "source": [
    "# Import modules\n",
    "from __future__ import print_function\n",
    "import tensorflow as tf\n",
    "\n",
    "physical_devices = tf.config.list_physical_devices('GPU')\n",
    "tf.config.experimental.set_memory_growth(physical_devices[0], enable=True)\n",
    "\n",
    "import numpy as np\n",
    "from numpy.random import shuffle\n",
    "import time\n",
    "import matplotlib.pyplot as plt\n",
    "\n",
    "# Plot configurations\n",
    "%matplotlib inline\n",
    "\n",
    "# Notebook auto reloads code. (Ref: http://stackoverflow.com/questions/1907993/autoreload-of-modules-in-ipython)\n",
    "%load_ext autoreload\n",
    "%autoreload 2\n",
    "print(tf.__version__)"
   ]
  },
  {
   "cell_type": "markdown",
   "metadata": {},
   "source": [
    "##  Part 1: Backpropagation through time (BPTT)"
   ]
  },
  {
   "cell_type": "markdown",
   "metadata": {},
   "source": [
    "**Question:** Consider a simple RNN network shown in the following figure, where _wx, wh, b1, w, b2_ are the scalar parameters of the network. The loss function is the **mean squared error (MSE)**. Given input _(x1, x2) = (-1, 2)_, ground truth _(g1, g2) = (0, 1), h0 = 0, and (wx, wh, b1, w, b2) = (3, 1, 2, -1, 1)_, **compute _(dwx, dwh, db1, dw, db2)_**, which are the gradients of loss with repect to 5 parameters _(wx, wh, b1, w, b2)_.\n",
    "\n",
    "![bptt](./img/bptt2.jpg)"
   ]
  },
  {
   "cell_type": "markdown",
   "metadata": {},
   "source": [
    "<span style=\"color:red\">TODO:</span>\n",
    "\n",
    "Answer the above question. \n",
    "\n",
    "* Show all of your derivations and the computational process.\n",
    "* Use LATEX to edit the equations (Jupyter notebook can recognize the basic LATEX syntax). Alternatively, you can edit equations in some other environment and then paste the screenshot of the equations here."
   ]
  },
  {
   "cell_type": "markdown",
   "metadata": {},
   "source": [
    "<span style=\"color:red\">Solution:</span>\n",
    "\n",
    "**[fill in here: Enter your derivations and the computational process]**\n",
    "\n",
    "\n",
    "$$\n",
    "Define\\ sigmoid\\ function:\\    \\sigma (x)=\\frac{1}{1+e^{-x}}\n",
    "$$\n",
    "\n",
    "$$\n",
    "Dirivative\\ of\\ the\\ sigmoid\\ function:\\    d\\sigma(x)=\\sigma(x)(1-\\sigma(x))\n",
    "$$\n",
    "\n",
    "$$\n",
    "Loss\\ function:\\    L=\\frac{1}{2} \\sum_{i} (y_i-g_i)^2\n",
    "$$\n",
    "\n",
    "<br>\n",
    "\n",
    "$$\n",
    "\\frac{\\partial L}{\\partial y_1}=y_1-g_1\n",
    "$$\n",
    "\n",
    "$$\n",
    "\\frac{\\partial y_1}{\\partial w}=\\frac{\\partial \\sigma(w*h_1+b_2)}{\\partial w}*h_1=d\\sigma(w*h_1+b_2)*h_1\n",
    "$$\n",
    "\n",
    "$$\n",
    "\\frac{\\partial y_1}{\\partial b_2}=\\frac{\\partial \\sigma(w*h_1+b_2)}{\\partial w}=d\\sigma(w*h_1+b_2)\n",
    "$$\n",
    "\n",
    "$$\n",
    "\\frac{\\partial y_1}{\\partial h_1}=\\frac{\\partial \\sigma(w*h_1+b_2)}{\\partial w}*w=d\\sigma(w*h_1+b_2)*w\n",
    "$$\n",
    "\n",
    "<br>\n",
    "\n",
    "$$\n",
    "\\frac{\\partial h_1}{\\partial wx}=\\frac{\\partial \\sigma(wx*x_1+wh*h_0+b_1)}{\\partial wx}*x_1=d\\sigma(wx*x_1+wh*h_0+b_1)*x_1\n",
    "$$\n",
    "\n",
    "$$\n",
    "\\frac{\\partial h_1}{\\partial wh}=\\frac{\\partial \\sigma(wx*x_1+wh*h_0+b_1)}{\\partial wh}*h_0=d\\sigma(wx*x_1+wh*h_0+b_1)*h_0\n",
    "$$\n",
    "\n",
    "$$\n",
    "\\frac{\\partial h_1}{\\partial b_1}=\\frac{\\partial \\sigma(wx*x_1+wh*h_0+b_1)}{\\partial b_1}=d\\sigma(wx*x_1+wh*h_0+b_1)\n",
    "$$\n",
    "\n",
    "<br>\n",
    "\n",
    "$$\n",
    "\\frac{\\partial L}{\\partial y_2}=y_2-g_2\n",
    "$$\n",
    "\n",
    "$$\n",
    "\\frac{\\partial y_2}{\\partial w}=\\frac{\\partial \\sigma(w*h_2+b_2)}{\\partial w}*h_2=d\\sigma(w*h_2+b_2)*h_2\n",
    "$$\n",
    "\n",
    "$$\n",
    "\\frac{\\partial y_2}{\\partial b_2}=\\frac{\\partial \\sigma(w*h_2+b_2)}{\\partial w}=d\\sigma(w*h_2+b_2)\n",
    "$$\n",
    "\n",
    "$$\n",
    "\\frac{\\partial y_2}{\\partial h_2}=\\frac{\\partial \\sigma(w*h_2+b_2)}{\\partial w}*w=d\\sigma(w*h_2+b_2)*w\n",
    "$$\n",
    "\n",
    "<br>\n",
    "\n",
    "$$\n",
    "\\frac{\\partial h_2}{\\partial wx}=\\frac{\\partial \\sigma(wx*x_2+wh*h_1+b_1)}{\\partial wx}*x_1=d\\sigma(wx*x_2+wh*h_1+b_1)*(x_2+wh*\\frac{\\partial h_1}{\\partial wx})\n",
    "$$\n",
    "\n",
    "$$\n",
    "\\frac{\\partial h_2}{\\partial wh}=\\frac{\\partial \\sigma(wx*x_2+wh*h_1+b_1)}{\\partial wh}*x_1=d\\sigma(wx*x_2+wh*h_1+b_1)*(h_1+wh*\\frac{\\partial h_1}{\\partial wh})\n",
    "$$\n",
    "\n",
    "$$\n",
    "\\frac{\\partial h_2}{\\partial b_1}=\\frac{\\partial \\sigma(wx*x_2+wh*h_1+b_1)}{\\partial b_1}=d\\sigma(wx*x_2+wh*h_1+b_1)*(1+wh*\\frac{\\partial h_1}{\\partial b_1})\n",
    "$$\n",
    "\n",
    "<br>\n",
    "\n",
    "$$\n",
    "\\frac{\\partial L}{\\partial w}=\\frac{\\partial L}{\\partial y_1}*\\frac{\\partial y_1}{\\partial w}+\\frac{\\partial L}{\\partial y_2}*\\frac{\\partial y_2}{\\partial w}\n",
    "$$\n",
    "\n",
    "$$\n",
    "\\frac{\\partial L}{\\partial b_2}=\\frac{\\partial L}{\\partial y_1}*\\frac{\\partial y_1}{\\partial b_2}+\\frac{\\partial L}{\\partial y_2}*\\frac{\\partial y_2}{\\partial b_2}\n",
    "$$\n",
    "\n",
    "$$\n",
    "\\frac{\\partial L}{\\partial wx}=\\frac{\\partial L}{\\partial y_1}*\\frac{\\partial y_1}{\\partial h_1}*\\frac{\\partial h_1}{\\partial wx}+\\frac{\\partial L}{\\partial y_2}*\\frac{\\partial y_2}{\\partial h_2}*\\frac{\\partial h_2}{\\partial wx}\n",
    "$$\n",
    "\n",
    "$$\n",
    "\\frac{\\partial L}{\\partial wh}=\\frac{\\partial L}{\\partial y_1}*\\frac{\\partial y_1}{\\partial h_1}*\\frac{\\partial h_1}{\\partial wh}+\\frac{\\partial L}{\\partial y_2}*\\frac{\\partial y_2}{\\partial h_2}*\\frac{\\partial h_2}{\\partial wh}\n",
    "$$\n",
    "\n",
    "$$\n",
    "\\frac{\\partial L}{\\partial b_1}=\\frac{\\partial L}{\\partial y_1}*\\frac{\\partial y_1}{\\partial h_1}*\\frac{\\partial h_1}{\\partial b_1}+\\frac{\\partial L}{\\partial y_2}*\\frac{\\partial y_2}{\\partial h_2}*\\frac{\\partial h_2}{\\partial b_1}\n",
    "$$"
   ]
  },
  {
   "cell_type": "code",
   "execution_count": 2,
   "metadata": {},
   "outputs": [
    {
     "name": "stdout",
     "output_type": "stream",
     "text": [
      "Verified by tensorflow (TODO compare values with your hand-written calculations):\n",
      "dw = -0.0851, db2 = 0.0231, dwx = 0.0292, dwh = 0.0000, db1 = -0.0291\n"
     ]
    }
   ],
   "source": [
    "# use tensorflow to verify the answer.\n",
    "with tf.GradientTape() as G:\n",
    "    w = tf.Variable(-1.0)\n",
    "    b2 = tf.Variable(1.0)\n",
    "    wx = tf.Variable(3.0)\n",
    "    wh = tf.Variable(1.0)\n",
    "    b1 = tf.Variable(2.0)\n",
    "\n",
    "    h0 = tf.Variable(0.0)\n",
    "    x = tf.Variable((-1.0,2.0))\n",
    "    g = tf.Variable((0.0, 1.0))\n",
    "\n",
    "    y = []\n",
    "    h1 = tf.sigmoid(wx*x[0] + wh*h0 + b1)\n",
    "    y.append(tf.sigmoid(w*h1 + b2))\n",
    "    h2 = tf.sigmoid(wx*x[1] + wh*h1 + b1)\n",
    "    y.append(tf.sigmoid(w*h2 + b2))\n",
    "\n",
    "    loss = 0.5*(tf.square(g[0]-y[0]) + tf.square(g[1]-y[1]))\n",
    "\n",
    "    dw_t, db2_t, dwx_t, dwh_t, db1_t = G.gradient(loss, [w, b2, wx, wh, b1])\n",
    "    \n",
    "\n",
    "print(\"Verified by tensorflow (TODO compare values with your hand-written calculations):\")\n",
    "print(\"dw = {:.4f}, db2 = {:.4f}, dwx = {:.4f}, dwh = {:.4f}, db1 = {:.4f}\".format(dw_t, db2_t, dwx_t, dwh_t, db1_t))"
   ]
  },
  {
   "cell_type": "code",
   "execution_count": 3,
   "metadata": {},
   "outputs": [
    {
     "name": "stdout",
     "output_type": "stream",
     "text": [
      "-0.08512777681556812\n",
      "0.023093510510468193\n",
      "0.029184146015738717\n",
      "1.4908897860482452e-05\n",
      "-0.02907548128903867\n",
      "Is derivative of w correct? True\n",
      "Is derivative of b2 correct? True\n",
      "Is derivative of wx correct? True\n",
      "Is derivative of wh correct? True\n",
      "Is derivative of b1 correct? True\n"
     ]
    }
   ],
   "source": [
    "import math\n",
    "h0 = 0\n",
    "\n",
    "x1 = -1\n",
    "x2 = 2\n",
    "\n",
    "wx = 3\n",
    "wh = 1\n",
    "b1 = 2\n",
    "\n",
    "w = -1\n",
    "b2 = 1\n",
    "\n",
    "g1 = 0\n",
    "g2 = 1\n",
    "\n",
    "def sig(x):\n",
    "    return 1/(1+math.exp(-x))\n",
    "\n",
    "def d_sig(x):\n",
    "    return sig(x)*(1-sig(x))\n",
    "\n",
    "def layer1(x,h):\n",
    "    return sig(wx*x+wh*h+b1)\n",
    "    \n",
    "def layer2(h):\n",
    "    return sig(w*h+b2)\n",
    "\n",
    "h1 = layer1(x1,h0)\n",
    "y1 = layer2(h1)\n",
    "\n",
    "h2 = layer1(x2,h1)\n",
    "y2 = layer2(h2)\n",
    "\n",
    "# print(h1,y1,h2,y2)\n",
    "\n",
    "dL_y1 = y1-g1\n",
    "dy1_b2 = d_sig(w*h1+b2)\n",
    "dy1_w = dy1_b2*h1\n",
    "dy1_h1 = dy1_b2*w\n",
    "\n",
    "dh1_b1 = d_sig(wx*x1+wh*h0+b1)\n",
    "dh1_wx = dh1_b1*x1\n",
    "dh1_wh = dh1_b1*h0\n",
    "\n",
    "dL_y2 = y2-g2\n",
    "dy2_b2 = d_sig(w*h2+b2)\n",
    "dy2_w = dy2_b2*h2\n",
    "dy2_h2 = dy2_b2*w\n",
    "\n",
    "dh2_b1 = d_sig(wx*x2+wh*h1+b1)*(wh*dh1_b1+1)\n",
    "dh2_wx = d_sig(wx*x2+wh*h1+b1)*(wh*dh1_b1+x2)\n",
    "dh2_wh = d_sig(wx*x2+wh*h1+b1)*(wh*dh1_b1+h1)\n",
    "\n",
    "dL_w = dL_y1*dy1_w + dL_y2*dy2_w\n",
    "dL_b2 = dL_y1*dy1_b2 + dL_y2*dy2_b2\n",
    "\n",
    "dL_wx = dL_y1*dy1_h1*dh1_wx + dL_y2*dy2_h2*dh2_wx\n",
    "dL_wh = dL_y1*dy1_h1*dh1_wh + dL_y2*dy2_h2*dh2_wh\n",
    "dL_b1 = dL_y1*dy1_h1*dh1_b1 + dL_y2*dy2_h2*dh2_b1\n",
    "\n",
    "print(dL_w)\n",
    "print(dL_b2)\n",
    "print(dL_wx)\n",
    "print(dL_wh)\n",
    "print(dL_b1)\n",
    "print('Is derivative of w correct? {}'.format(np.allclose(dw_t, dL_w, atol=1e-2)))\n",
    "print('Is derivative of b2 correct? {}'.format(np.allclose(db2_t, dL_b2, atol=1e-2)))\n",
    "print('Is derivative of wx correct? {}'.format(np.allclose(dwx_t, dL_wx, atol=1e-2)))\n",
    "print('Is derivative of wh correct? {}'.format(np.allclose(dwh_t, dL_wh, atol=1e-2)))\n",
    "print('Is derivative of b1 correct? {}'.format(np.allclose(db1_t, dL_b1, atol=1e-2)))\n"
   ]
  },
  {
   "cell_type": "markdown",
   "metadata": {},
   "source": [
    "## Part 2: Use TensorFlow modules to create XNOR network\n",
    "\n",
    "In this part, you need to build and train an XNOR network that can learn the XNOR function. It is a very simple implementation of RNN and will give you an idea how RNN is built and how to train it."
   ]
  },
  {
   "cell_type": "markdown",
   "metadata": {},
   "source": [
    "### XNOR network\n",
    "\n",
    "XNOR network can learn the XNOR ($\\odot$) function\n",
    "\n",
    "As shown in the figure below, and for instance, if input $(x_0, x_1, x_2, x_3, x_4, x_5, x_6, x_7)$=(0,0,1,1,1,1,1,0), then output $(y_1, y_2, y_3, y_4, y_5, y_6, y_7, y_8)$=(1,1,0,1,0,1,0,0). That is, $y_n = x_0\\odot x_1 \\odot ... \\odot x_{n-1}\\odot x_{n}$\n",
    "\n",
    "![xnor_net](./img/xnor.png)"
   ]
  },
  {
   "cell_type": "markdown",
   "metadata": {},
   "source": [
    "### Create a data set\n",
    "This function provides a way to generate the data which is needed for the training process. You should utilize it when building your training function for the GRU. Read the source code for more information."
   ]
  },
  {
   "cell_type": "code",
   "execution_count": 2,
   "metadata": {},
   "outputs": [],
   "source": [
    "from utils.xnor.dataset import create_xnor_dataset"
   ]
  },
  {
   "cell_type": "code",
   "execution_count": 3,
   "metadata": {},
   "outputs": [
    {
     "data": {
      "text/plain": [
       "(array([[[0],\n",
       "         [0],\n",
       "         [0],\n",
       "         [1],\n",
       "         [0],\n",
       "         [0],\n",
       "         [1],\n",
       "         [1]]]),\n",
       " array([[0, 0, 0, 1, 1, 1, 0, 1]]))"
      ]
     },
     "execution_count": 3,
     "metadata": {},
     "output_type": "execute_result"
    }
   ],
   "source": [
    "create_xnor_dataset(1)"
   ]
  },
  {
   "cell_type": "markdown",
   "metadata": {},
   "source": [
    "### Build a network using a TensorFlow LSTMCell and GRUCell\n",
    "In this section, you are asked to build a XNOR net using a TensorFlow LSTMCell and a GRUCell. In TensorFlow 2, these two cells are supported by Keras. Please check online documents below.\n",
    "\n",
    "Reference: \n",
    "1. [TensorFlow(Keras): Working with RNNs](https://keras.io/guides/working_with_rnns/)\n",
    "2. [TensorFlow: Recurrent Neural Networks (RNN) with Keras](https://www.tensorflow.org/guide/keras/rnn)\n",
    "3. [TensorFlow LSTM cell](https://www.tensorflow.org/api_docs/python/tf/keras/layers/LSTM)\n",
    "4. [TensorFlow GRU cell](https://www.tensorflow.org/api_docs/python/tf/keras/layers/GRU)\n",
    "5. [TensorFlow: Sequential Model](https://www.tensorflow.org/guide/keras/sequential_model)\n"
   ]
  },
  {
   "cell_type": "markdown",
   "metadata": {},
   "source": [
    "<span style=\"color:red\">TODO:</span>\n",
    "Use TensorFlow to build and train your XNOR net. The dataset is already provided. You will do the following:\n",
    "- Learn how to use **tf.keras.layers.LSTM** and **tf.keras.layers.GRU** in TensorFlow(Keras). \n",
    "- Choose appropriate parameters to build a model (Sequential Model in Keras is suggested). \n",
    "- Compile your model with appropriate loss function, optimizer, metrics, etc.\n",
    "- Train your model and see the loss history.\n",
    "\n",
    "Tips: \n",
    "1. Make sure that the shape of your data is corrrect after every step.\n",
    "2. Choose your loss function according to your network design.\n",
    "3. Choose 'accuracy' as your metrics when compiling your model.\n",
    "4. Make sure that names of history for the network with LSTMCell and GRUCell (which you used while training) are the same as the ones in the plotting functions.\n",
    "4. Feel free to ask TAs if you get stuck somewhere."
   ]
  },
  {
   "cell_type": "markdown",
   "metadata": {},
   "source": [
    "### Build a network with LSTM cell"
   ]
  },
  {
   "cell_type": "code",
   "execution_count": 4,
   "metadata": {
    "pycharm": {
     "is_executing": true
    }
   },
   "outputs": [],
   "source": [
    "in_data, out_data = create_xnor_dataset(1000) # create a dataset with a batch size of 1000"
   ]
  },
  {
   "cell_type": "code",
   "execution_count": 5,
   "metadata": {},
   "outputs": [
    {
     "name": "stdout",
     "output_type": "stream",
     "text": [
      "(1000, 8, 1) (1000, 8)\n",
      "<class 'numpy.int64'> <class 'numpy.int64'>\n"
     ]
    }
   ],
   "source": [
    "print(in_data.shape, out_data.shape)\n",
    "print(type(in_data[0][0][0]), type(out_data[0][0]))"
   ]
  },
  {
   "cell_type": "code",
   "execution_count": 44,
   "metadata": {
    "pycharm": {
     "is_executing": true
    }
   },
   "outputs": [
    {
     "name": "stdout",
     "output_type": "stream",
     "text": [
      "Model: \"sequential_36\"\n",
      "_________________________________________________________________\n",
      "Layer (type)                 Output Shape              Param #   \n",
      "=================================================================\n",
      "lstm_21 (LSTM)               (None, 8, 1024)           4202496   \n",
      "_________________________________________________________________\n",
      "dense_67 (Dense)             (None, 8, 1024)           1049600   \n",
      "_________________________________________________________________\n",
      "dense_68 (Dense)             (None, 8, 1)              1025      \n",
      "=================================================================\n",
      "Total params: 5,253,121\n",
      "Trainable params: 5,253,121\n",
      "Non-trainable params: 0\n",
      "_________________________________________________________________\n",
      "Epoch 1/30\n",
      "16/16 [==============================] - 2s 12ms/step - loss: 0.2511 - accuracy: 0.5247\n",
      "Epoch 2/30\n",
      "16/16 [==============================] - 0s 10ms/step - loss: 0.2486 - accuracy: 0.5368\n",
      "Epoch 3/30\n",
      "16/16 [==============================] - 0s 9ms/step - loss: 0.2472 - accuracy: 0.5543\n",
      "Epoch 4/30\n",
      "16/16 [==============================] - 0s 9ms/step - loss: 0.2476 - accuracy: 0.5503\n",
      "Epoch 5/30\n",
      "16/16 [==============================] - 0s 9ms/step - loss: 0.2468 - accuracy: 0.5563\n",
      "Epoch 6/30\n",
      "16/16 [==============================] - 0s 9ms/step - loss: 0.2456 - accuracy: 0.5651\n",
      "Epoch 7/30\n",
      "16/16 [==============================] - 0s 9ms/step - loss: 0.2463 - accuracy: 0.5680\n",
      "Epoch 8/30\n",
      "16/16 [==============================] - 0s 9ms/step - loss: 0.2466 - accuracy: 0.5699\n",
      "Epoch 9/30\n",
      "16/16 [==============================] - 0s 9ms/step - loss: 0.2453 - accuracy: 0.5792\n",
      "Epoch 10/30\n",
      "16/16 [==============================] - 0s 9ms/step - loss: 0.2447 - accuracy: 0.5578\n",
      "Epoch 11/30\n",
      "16/16 [==============================] - 0s 9ms/step - loss: 0.2384 - accuracy: 0.5753\n",
      "Epoch 12/30\n",
      "16/16 [==============================] - 0s 9ms/step - loss: 0.2281 - accuracy: 0.5604\n",
      "Epoch 13/30\n",
      "16/16 [==============================] - 0s 9ms/step - loss: 0.2092 - accuracy: 0.5741\n",
      "Epoch 14/30\n",
      "16/16 [==============================] - 0s 9ms/step - loss: 0.1886 - accuracy: 0.6567\n",
      "Epoch 15/30\n",
      "16/16 [==============================] - 0s 9ms/step - loss: 0.1742 - accuracy: 0.6958\n",
      "Epoch 16/30\n",
      "16/16 [==============================] - 0s 9ms/step - loss: 0.1606 - accuracy: 0.7227\n",
      "Epoch 17/30\n",
      "16/16 [==============================] - 0s 9ms/step - loss: 0.1246 - accuracy: 0.8181\n",
      "Epoch 18/30\n",
      "16/16 [==============================] - 0s 9ms/step - loss: 0.0507 - accuracy: 0.9500\n",
      "Epoch 19/30\n",
      "16/16 [==============================] - 0s 9ms/step - loss: 0.0116 - accuracy: 0.9930\n",
      "Epoch 20/30\n",
      "16/16 [==============================] - 0s 9ms/step - loss: 0.0011 - accuracy: 0.9994\n",
      "Epoch 21/30\n",
      "16/16 [==============================] - 0s 9ms/step - loss: 5.6482e-04 - accuracy: 0.9999\n",
      "Epoch 22/30\n",
      "16/16 [==============================] - 0s 9ms/step - loss: 2.6371e-04 - accuracy: 1.0000\n",
      "Epoch 23/30\n",
      "16/16 [==============================] - 0s 9ms/step - loss: 1.2272e-04 - accuracy: 1.0000\n",
      "Epoch 24/30\n",
      "16/16 [==============================] - 0s 9ms/step - loss: 1.0095e-04 - accuracy: 1.0000\n",
      "Epoch 25/30\n",
      "16/16 [==============================] - 0s 9ms/step - loss: 8.8807e-05 - accuracy: 1.0000\n",
      "Epoch 26/30\n",
      "16/16 [==============================] - 0s 9ms/step - loss: 7.7803e-05 - accuracy: 1.0000\n",
      "Epoch 27/30\n",
      "16/16 [==============================] - 0s 9ms/step - loss: 6.9530e-05 - accuracy: 1.0000\n",
      "Epoch 28/30\n",
      "16/16 [==============================] - 0s 9ms/step - loss: 6.5710e-05 - accuracy: 1.0000\n",
      "Epoch 29/30\n",
      "16/16 [==============================] - 0s 9ms/step - loss: 5.9592e-05 - accuracy: 1.0000\n",
      "Epoch 30/30\n",
      "16/16 [==============================] - 0s 9ms/step - loss: 5.4528e-05 - accuracy: 1.0000\n"
     ]
    }
   ],
   "source": [
    "###################################################\n",
    "# TODO: build a network with LSTM cell and train it.#\n",
    "#                                                 #\n",
    "###################################################\n",
    "import tensorflow.keras.layers as layers\n",
    "import tensorflow.keras as keras\n",
    "\n",
    "model_lstm = tf.keras.Sequential()\n",
    "\n",
    "model_lstm.add(layers.Input(shape=(8,1)))\n",
    "\n",
    "model_lstm.add(layers.LSTM(1024, return_sequences=True))\n",
    "\n",
    "# model_lstm.add(layers.Flatten())\n",
    "\n",
    "model_lstm.add(layers.Dense(1024, activation='sigmoid'))\n",
    "\n",
    "# model_lstm.add(layers.Dense(64, activation='relu'))\n",
    "\n",
    "model_lstm.add(layers.Dense(1, activation='sigmoid'))\n",
    "\n",
    "model_lstm.summary()\n",
    "\n",
    "optimizer = keras.optimizers.Adam(learning_rate=1e-3)\n",
    "\n",
    "model_lstm.compile(\n",
    "    loss=keras.losses.MeanSquaredError(),\n",
    "    optimizer=optimizer,\n",
    "    metrics=[\"accuracy\"]\n",
    ")\n",
    "\n",
    "history_LSTM = model_lstm.fit(in_data, out_data, batch_size=64, epochs=30)\n",
    "\n",
    "###################################################\n",
    "# END TODO                                        #\n",
    "###################################################"
   ]
  },
  {
   "cell_type": "markdown",
   "metadata": {},
   "source": [
    "#### Hint for creating a model with LSTM cells\n",
    "```\n",
    "model = tf.keras.Sequential() \n",
    "model.add(# insert layer 1)\n",
    "model.add(# insert layer 2) \n",
    "model.add(# insert more layers) \n",
    "model.add(# insert output layer)\n",
    "\n",
    "model.summary() \n",
    "model.compile(loss=#choose your loss function,\n",
    "              optimizer=#choose your optimizer with learning rate,\n",
    "              metrics=['accuracy']) \n",
    "history_LSTM = model.fit(in_data, out_data, batch_size=64, epochs=15) \n",
    "```"
   ]
  },
  {
   "cell_type": "markdown",
   "metadata": {},
   "source": [
    "### Build a network with GRU cell"
   ]
  },
  {
   "cell_type": "code",
   "execution_count": 9,
   "metadata": {},
   "outputs": [],
   "source": [
    "in_data, out_data = create_xnor_dataset(1000) # create a dataset with batch size of 1000"
   ]
  },
  {
   "cell_type": "code",
   "execution_count": 41,
   "metadata": {},
   "outputs": [
    {
     "name": "stdout",
     "output_type": "stream",
     "text": [
      "Model: \"sequential_35\"\n",
      "_________________________________________________________________\n",
      "Layer (type)                 Output Shape              Param #   \n",
      "=================================================================\n",
      "gru_14 (GRU)                 (None, 8, 1024)           3154944   \n",
      "_________________________________________________________________\n",
      "dense_65 (Dense)             (None, 8, 1024)           1049600   \n",
      "_________________________________________________________________\n",
      "dense_66 (Dense)             (None, 8, 1)              1025      \n",
      "=================================================================\n",
      "Total params: 4,205,569\n",
      "Trainable params: 4,205,569\n",
      "Non-trainable params: 0\n",
      "_________________________________________________________________\n",
      "Epoch 1/30\n",
      "16/16 [==============================] - 1s 11ms/step - loss: 0.2510 - accuracy: 0.5216\n",
      "Epoch 2/30\n",
      "16/16 [==============================] - 0s 10ms/step - loss: 0.2475 - accuracy: 0.5633\n",
      "Epoch 3/30\n",
      "16/16 [==============================] - 0s 8ms/step - loss: 0.2478 - accuracy: 0.5513\n",
      "Epoch 4/30\n",
      "16/16 [==============================] - 0s 7ms/step - loss: 0.2469 - accuracy: 0.5590\n",
      "Epoch 5/30\n",
      "16/16 [==============================] - 0s 7ms/step - loss: 0.2454 - accuracy: 0.5641\n",
      "Epoch 6/30\n",
      "16/16 [==============================] - 0s 7ms/step - loss: 0.2457 - accuracy: 0.5658\n",
      "Epoch 7/30\n",
      "16/16 [==============================] - 0s 7ms/step - loss: 0.2455 - accuracy: 0.5580\n",
      "Epoch 8/30\n",
      "16/16 [==============================] - 0s 7ms/step - loss: 0.2431 - accuracy: 0.5636\n",
      "Epoch 9/30\n",
      "16/16 [==============================] - 0s 7ms/step - loss: 0.2379 - accuracy: 0.5677\n",
      "Epoch 10/30\n",
      "16/16 [==============================] - 0s 7ms/step - loss: 0.2321 - accuracy: 0.5751\n",
      "Epoch 11/30\n",
      "16/16 [==============================] - 0s 7ms/step - loss: 0.2060 - accuracy: 0.6333\n",
      "Epoch 12/30\n",
      "16/16 [==============================] - 0s 8ms/step - loss: 0.1828 - accuracy: 0.7083\n",
      "Epoch 13/30\n",
      "16/16 [==============================] - 0s 8ms/step - loss: 0.1708 - accuracy: 0.7010\n",
      "Epoch 14/30\n",
      "16/16 [==============================] - 0s 7ms/step - loss: 0.1618 - accuracy: 0.7119\n",
      "Epoch 15/30\n",
      "16/16 [==============================] - 0s 7ms/step - loss: 0.1533 - accuracy: 0.7231\n",
      "Epoch 16/30\n",
      "16/16 [==============================] - 0s 8ms/step - loss: 0.1432 - accuracy: 0.7469\n",
      "Epoch 17/30\n",
      "16/16 [==============================] - 0s 7ms/step - loss: 0.1355 - accuracy: 0.7843\n",
      "Epoch 18/30\n",
      "16/16 [==============================] - 0s 8ms/step - loss: 0.1172 - accuracy: 0.8349\n",
      "Epoch 19/30\n",
      "16/16 [==============================] - 0s 7ms/step - loss: 0.0777 - accuracy: 0.8934\n",
      "Epoch 20/30\n",
      "16/16 [==============================] - 0s 7ms/step - loss: 0.0146 - accuracy: 0.9932\n",
      "Epoch 21/30\n",
      "16/16 [==============================] - 0s 7ms/step - loss: 9.8855e-04 - accuracy: 0.9997\n",
      "Epoch 22/30\n",
      "16/16 [==============================] - 0s 7ms/step - loss: 2.4883e-04 - accuracy: 1.0000\n",
      "Epoch 23/30\n",
      "16/16 [==============================] - 0s 8ms/step - loss: 1.0879e-04 - accuracy: 1.0000\n",
      "Epoch 24/30\n",
      "16/16 [==============================] - 0s 7ms/step - loss: 7.9506e-05 - accuracy: 1.0000\n",
      "Epoch 25/30\n",
      "16/16 [==============================] - 0s 7ms/step - loss: 6.8306e-05 - accuracy: 1.0000\n",
      "Epoch 26/30\n",
      "16/16 [==============================] - 0s 7ms/step - loss: 5.7736e-05 - accuracy: 1.0000\n",
      "Epoch 27/30\n",
      "16/16 [==============================] - 0s 8ms/step - loss: 5.4823e-05 - accuracy: 1.0000\n",
      "Epoch 28/30\n",
      "16/16 [==============================] - 0s 7ms/step - loss: 4.8619e-05 - accuracy: 1.0000\n",
      "Epoch 29/30\n",
      "16/16 [==============================] - 0s 8ms/step - loss: 4.5116e-05 - accuracy: 1.0000\n",
      "Epoch 30/30\n",
      "16/16 [==============================] - 0s 8ms/step - loss: 4.3398e-05 - accuracy: 1.0000\n"
     ]
    }
   ],
   "source": [
    "###################################################\n",
    "# TODO: build a model with GRU cell and train it. #\n",
    "#                                                 #\n",
    "###################################################\n",
    "model_gru = tf.keras.Sequential()\n",
    "\n",
    "# model_gru.add(layers.Input(shape=(8,1)))\n",
    "\n",
    "model_gru.add(layers.GRU(1024, return_sequences=True))\n",
    "\n",
    "model_gru.add(layers.Dense(1024, activation='sigmoid'))\n",
    "# model_gru.add(layers.Dense(64, activation='relu'))\n",
    "\n",
    "model_gru.add(layers.Dense(1, activation='sigmoid'))\n",
    "\n",
    "model_gru.build((None, 8, 1))\n",
    "\n",
    "model_gru.summary()\n",
    "\n",
    "\n",
    "\n",
    "optimizer = keras.optimizers.Adam(learning_rate=1e-3)\n",
    "\n",
    "model_gru.compile(\n",
    "    loss=keras.losses.MeanSquaredError(),\n",
    "    optimizer=optimizer,\n",
    "    metrics=[\"accuracy\"]\n",
    ")\n",
    "\n",
    "history_GRU = model_gru.fit(in_data, out_data, batch_size=64, epochs=30)\n",
    "\n",
    "###################################################\n",
    "# END TODO                                        #\n",
    "###################################################"
   ]
  },
  {
   "cell_type": "markdown",
   "metadata": {},
   "source": [
    "#### Hint for creating a model with GRU cell\n",
    "```\n",
    "model = tf.keras.Sequential()\n",
    "model.add(# insert layer 1)\n",
    "model.add(# insert layer 2)\n",
    "model.add(# insert more layers)\n",
    "model.add(# insert output layer)\n",
    "\n",
    "model.summary()\n",
    "model.compile(loss=#choose your loss function,\n",
    "              optimizer=#choose your optimizer with learning rate,\n",
    "              metrics=['accuracy'])\n",
    "history_GRU = model.fit(in_data, out_data, batch_size=64, epochs=15)\n",
    "```"
   ]
  },
  {
   "cell_type": "markdown",
   "metadata": {},
   "source": [
    "### Visualize loss and accuracy"
   ]
  },
  {
   "cell_type": "code",
   "execution_count": 45,
   "metadata": {},
   "outputs": [
    {
     "data": {
      "image/png": "[encoded data removed]",
      "text/plain": [
       "<Figure size 432x288 with 1 Axes>"
      ]
     },
     "metadata": {
      "needs_background": "light"
     },
     "output_type": "display_data"
    }
   ],
   "source": [
    "plt.plot(history_LSTM.history['loss'], label='LSTM')\n",
    "plt.plot(history_GRU.history['loss'], label='GRU')\n",
    "plt.title('LSTM/GRU loss')\n",
    "plt.ylabel('loss')\n",
    "plt.xlabel('No. epoch')\n",
    "plt.legend(loc=\"upper left\")\n",
    "plt.show()"
   ]
  },
  {
   "cell_type": "code",
   "execution_count": 46,
   "metadata": {},
   "outputs": [
    {
     "data": {
      "image/png": "[encoded data removed]",
      "text/plain": [
       "<Figure size 432x288 with 1 Axes>"
      ]
     },
     "metadata": {
      "needs_background": "light"
     },
     "output_type": "display_data"
    }
   ],
   "source": [
    "plt.plot(history_LSTM.history['accuracy'], label='LSTM')\n",
    "plt.plot(history_GRU.history['accuracy'], label='GRU')\n",
    "plt.title('LSTM/GRU accuracy')\n",
    "plt.ylabel('accuracy')\n",
    "plt.xlabel('No. epoch')\n",
    "plt.legend(loc=\"upper left\")\n",
    "plt.show()"
   ]
  },
  {
   "cell_type": "markdown",
   "metadata": {},
   "source": [
    "<span style=\"color:red\">__TODO:__</span> Answer the question:"
   ]
  },
  {
   "cell_type": "markdown",
   "metadata": {},
   "source": [
    "Which part of this task have you been struggling with most of the  time? Describe how you resolved it."
   ]
  },
  {
   "cell_type": "markdown",
   "metadata": {},
   "source": [
    "<span style=\"color:red\">__SOLUTION:__</span>"
   ]
  },
  {
   "cell_type": "markdown",
   "metadata": {},
   "source": [
    "Making the LSTM or GRU more accurate is kind of struggle for me. \n",
    "Firstly I constructed a very simple model, which is a narrow LSTM followed a  narrow Dense layer. And the accuracy is lower than 0.1. \n",
    "Then I tried to increase the number of nodes in the hidden layer and number of sequence of LSTM. The result starts getting better but still very poor. I found that the loss of the model is not descending from epochs to epochs, so I adjusted learning rate and changed the optimizor from SGD to Adam, which make the performance.\n",
    "Also, the activation function of the last layer should be sigmoid for making the result in the range of (-1,1), which matches the target.\n",
    "Finally, I tried several times and made the model deeper and wider."
   ]
  },
  {
   "cell_type": "markdown",
   "metadata": {},
   "source": [
    "<span style=\"color:red\">__TODO:__</span> Answer the question:"
   ]
  },
  {
   "cell_type": "markdown",
   "metadata": {},
   "source": [
    "Which loss function did you use? Why?"
   ]
  },
  {
   "cell_type": "markdown",
   "metadata": {},
   "source": [
    "<span style=\"color:red\">__SOLUTION:__</span>"
   ]
  },
  {
   "cell_type": "markdown",
   "metadata": {},
   "source": [
    "I used MeanSquaredError as the loss function. Because the task is to make the result as near to the target as possible, and not a classification task. MeanSquaredError mesures the distance error between the result and target."
   ]
  },
  {
   "cell_type": "markdown",
   "metadata": {},
   "source": [
    "## Part 3 :  Build your own LSTMCell\n",
    "In this part, you need to build your own LSTM cell to achieve the LSTM functionality (including different types of gates that constitute the cell).\n",
    "\n",
    "You should refer to the materials on how the LSTM cell works  - with its cell states, activation functions and kernels. \n",
    "<br>Please see the course slides or the website https://colah.github.io/posts/2015-08-Understanding-LSTMs/.\n",
    "\n",
    "<span style=\"color:red\">TODO:</span> \n",
    "1. Complete the function **LSTM_step** in utils/xnor/LSTM_step.py;\n",
    "2. Verify the function by running the provided code.\n",
    "3. Use the same way (as described above) to build the model and to train it.\n"
   ]
  },
  {
   "cell_type": "code",
   "execution_count": 3,
   "metadata": {},
   "outputs": [
    {
     "name": "stdout",
     "output_type": "stream",
     "text": [
      "Simple verification:\n",
      "Is h correct? True\n",
      "Is c correct? True\n"
     ]
    }
   ],
   "source": [
    "from utils.xnor.LSTM_step import LSTM_step\n",
    "\n",
    "cell_inputs = np.ones((1,1))\n",
    "cell_states = [0.2*np.ones((1,64)), np.zeros((1,64))]\n",
    "kernel = 0.1*np.ones((1,256))\n",
    "recurrent_kernel = 0.1*np.ones((64,256))\n",
    "bias = np.zeros(256)\n",
    "\n",
    "h , [h,c] = LSTM_step(cell_inputs, cell_states, kernel, recurrent_kernel, bias)\n",
    "print('Simple verification:')\n",
    "print('Is h correct?', np.isclose(h.numpy()[0][0],0.48484358))\n",
    "print('Is c correct?', np.isclose(c.numpy()[0][0],0.70387213))"
   ]
  },
  {
   "cell_type": "code",
   "execution_count": 48,
   "metadata": {},
   "outputs": [],
   "source": [
    "in_data, out_data = create_xnor_dataset(1000)# create a dataset with a batch size of 1000"
   ]
  },
  {
   "cell_type": "code",
   "execution_count": 51,
   "metadata": {},
   "outputs": [
    {
     "name": "stdout",
     "output_type": "stream",
     "text": [
      "Model: \"sequential_39\"\n",
      "_________________________________________________________________\n",
      "Layer (type)                 Output Shape              Param #   \n",
      "=================================================================\n",
      "lstm_24 (LSTM)               (None, 8, 1024)           4202496   \n",
      "_________________________________________________________________\n",
      "dense_73 (Dense)             (None, 8, 1024)           1049600   \n",
      "_________________________________________________________________\n",
      "dense_74 (Dense)             (None, 8, 1)              1025      \n",
      "=================================================================\n",
      "Total params: 5,253,121\n",
      "Trainable params: 5,253,121\n",
      "Non-trainable params: 0\n",
      "_________________________________________________________________\n",
      "Epoch 1/30\n",
      "16/16 [==============================] - 2s 13ms/step - loss: 0.2786 - accuracy: 0.5062\n",
      "Epoch 2/30\n",
      "16/16 [==============================] - 0s 9ms/step - loss: 0.2489 - accuracy: 0.5008\n",
      "Epoch 3/30\n",
      "16/16 [==============================] - 0s 9ms/step - loss: 0.2476 - accuracy: 0.5425\n",
      "Epoch 4/30\n",
      "16/16 [==============================] - 0s 9ms/step - loss: 0.2469 - accuracy: 0.5610\n",
      "Epoch 5/30\n",
      "16/16 [==============================] - 0s 9ms/step - loss: 0.2468 - accuracy: 0.5619\n",
      "Epoch 6/30\n",
      "16/16 [==============================] - 0s 8ms/step - loss: 0.2468 - accuracy: 0.5672\n",
      "Epoch 7/30\n",
      "16/16 [==============================] - 0s 9ms/step - loss: 0.2466 - accuracy: 0.5612\n",
      "Epoch 8/30\n",
      "16/16 [==============================] - 0s 9ms/step - loss: 0.2457 - accuracy: 0.5753\n",
      "Epoch 9/30\n",
      "16/16 [==============================] - 0s 9ms/step - loss: 0.2454 - accuracy: 0.5597\n",
      "Epoch 10/30\n",
      "16/16 [==============================] - 0s 9ms/step - loss: 0.2455 - accuracy: 0.5540\n",
      "Epoch 11/30\n",
      "16/16 [==============================] - 0s 9ms/step - loss: 0.2408 - accuracy: 0.5694\n",
      "Epoch 12/30\n",
      "16/16 [==============================] - 0s 9ms/step - loss: 0.2331 - accuracy: 0.5698\n",
      "Epoch 13/30\n",
      "16/16 [==============================] - 0s 9ms/step - loss: 0.2194 - accuracy: 0.5557\n",
      "Epoch 14/30\n",
      "16/16 [==============================] - 0s 9ms/step - loss: 0.2001 - accuracy: 0.6132\n",
      "Epoch 15/30\n",
      "16/16 [==============================] - 0s 9ms/step - loss: 0.1730 - accuracy: 0.7012\n",
      "Epoch 16/30\n",
      "16/16 [==============================] - 0s 9ms/step - loss: 0.1527 - accuracy: 0.7531\n",
      "Epoch 17/30\n",
      "16/16 [==============================] - 0s 9ms/step - loss: 0.1055 - accuracy: 0.8542\n",
      "Epoch 18/30\n",
      "16/16 [==============================] - 0s 9ms/step - loss: 0.0424 - accuracy: 0.9569\n",
      "Epoch 19/30\n",
      "16/16 [==============================] - 0s 9ms/step - loss: 0.0089 - accuracy: 0.9966\n",
      "Epoch 20/30\n",
      "16/16 [==============================] - 0s 9ms/step - loss: 0.0012 - accuracy: 0.9998\n",
      "Epoch 21/30\n",
      "16/16 [==============================] - 0s 9ms/step - loss: 4.3607e-04 - accuracy: 0.9999\n",
      "Epoch 22/30\n",
      "16/16 [==============================] - 0s 9ms/step - loss: 1.8138e-04 - accuracy: 1.0000\n",
      "Epoch 23/30\n",
      "16/16 [==============================] - 0s 9ms/step - loss: 1.3864e-04 - accuracy: 1.0000\n",
      "Epoch 24/30\n",
      "16/16 [==============================] - 0s 9ms/step - loss: 1.1175e-04 - accuracy: 1.0000\n",
      "Epoch 25/30\n",
      "16/16 [==============================] - 0s 9ms/step - loss: 9.8535e-05 - accuracy: 1.0000\n",
      "Epoch 26/30\n",
      "16/16 [==============================] - 0s 9ms/step - loss: 8.9631e-05 - accuracy: 1.0000\n",
      "Epoch 27/30\n",
      "16/16 [==============================] - 0s 9ms/step - loss: 8.2510e-05 - accuracy: 1.0000\n",
      "Epoch 28/30\n",
      "16/16 [==============================] - 0s 9ms/step - loss: 7.4197e-05 - accuracy: 1.0000\n",
      "Epoch 29/30\n",
      "16/16 [==============================] - 0s 9ms/step - loss: 6.9362e-05 - accuracy: 1.0000\n",
      "Epoch 30/30\n",
      "16/16 [==============================] - 0s 9ms/step - loss: 6.3318e-05 - accuracy: 1.0000\n"
     ]
    }
   ],
   "source": [
    "###################################################\n",
    "# TODO: build a model with LSTM cell and train it.#\n",
    "#                                                 #\n",
    "###################################################\n",
    "\n",
    "model_lstm = tf.keras.Sequential()\n",
    "\n",
    "model_lstm.add(layers.Input(shape=(8,1)))\n",
    "\n",
    "model_lstm.add(layers.LSTM(1024, return_sequences=True))\n",
    "\n",
    "# model_lstm.add(layers.Flatten())\n",
    "\n",
    "model_lstm.add(layers.Dense(1024, activation='sigmoid'))\n",
    "\n",
    "# model_lstm.add(layers.Dense(64, activation='relu'))\n",
    "\n",
    "model_lstm.add(layers.Dense(1, activation='sigmoid'))\n",
    "\n",
    "model_lstm.summary()\n",
    "\n",
    "optimizer = keras.optimizers.Adam(learning_rate=1e-3)\n",
    "\n",
    "model_lstm.compile(\n",
    "    loss=keras.losses.MeanSquaredError(),\n",
    "    optimizer=optimizer,\n",
    "    metrics=[\"accuracy\"]\n",
    ")\n",
    "\n",
    "history = model_lstm.fit(in_data, out_data, batch_size=64, epochs=30)\n",
    "\n",
    "###################################################\n",
    "# END TODO                                        #\n",
    "###################################################"
   ]
  },
  {
   "cell_type": "markdown",
   "metadata": {},
   "source": [
    "#### Hint for building a model with LSTM cell\n",
    "```\n",
    "model = tf.keras.Sequential()\n",
    "model.add(# insert layer 1)\n",
    "model.add(# insert layer 2)\n",
    "model.add(# insert more layers)\n",
    "model.add(# insert output layer)\n",
    "\n",
    "model.summary()\n",
    "model.compile(loss=#choose your loss function,\n",
    "              optimizer=#choose your optimizer with learning rate,\n",
    "              metrics=['accuracy'])\n",
    "history = model.fit(in_data, out_data, batch_size=64, epochs=15)\n",
    "```"
   ]
  },
  {
   "cell_type": "markdown",
   "metadata": {},
   "source": [
    "### Visualize loss and accuracy"
   ]
  },
  {
   "cell_type": "code",
   "execution_count": 52,
   "metadata": {},
   "outputs": [
    {
     "data": {
      "image/png": "[encoded data removed]",
      "text/plain": [
       "<Figure size 432x288 with 1 Axes>"
      ]
     },
     "metadata": {
      "needs_background": "light"
     },
     "output_type": "display_data"
    }
   ],
   "source": [
    "plt.plot(history.history['loss'], label='loss')\n",
    "plt.plot(history.history['accuracy'], label='accuracy')\n",
    "plt.title('Training history')\n",
    "plt.ylabel('value')\n",
    "plt.xlabel('No. epoch')\n",
    "plt.legend(loc=\"upper left\")\n",
    "plt.show()"
   ]
  }
 ],
 "metadata": {
  "kernelspec": {
   "display_name": "Python 3",
   "language": "python",
   "name": "python3"
  },
  "language_info": {
   "codemirror_mode": {
    "name": "ipython",
    "version": 3
   },
   "file_extension": ".py",
   "mimetype": "text/x-python",
   "name": "python",
   "nbconvert_exporter": "python",
   "pygments_lexer": "ipython3",
   "version": "3.6.9"
  }
 },
 "nbformat": 4,
 "nbformat_minor": 4
}
